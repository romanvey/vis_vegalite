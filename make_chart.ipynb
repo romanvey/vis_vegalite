{
 "cells": [
  {
   "cell_type": "code",
   "execution_count": 630,
   "metadata": {},
   "outputs": [],
   "source": [
    "import pandas as pd\n",
    "import altair as alt"
   ]
  },
  {
   "cell_type": "code",
   "execution_count": 631,
   "metadata": {},
   "outputs": [],
   "source": [
    "pop = pd.read_csv('https://gist.githubusercontent.com/romanvey/68b6fef196ea0489fddba0b358ae1ea9/raw/ccf0b293272c706221c509635d73f83e50a601b6/population.csv')"
   ]
  },
  {
   "cell_type": "code",
   "execution_count": 632,
   "metadata": {},
   "outputs": [],
   "source": [
    "pop['population'] /= 1000."
   ]
  },
  {
   "cell_type": "code",
   "execution_count": 633,
   "metadata": {},
   "outputs": [],
   "source": [
    "BLACK_COLOR = '#5D646F'\n",
    "GRAY_COLOR = '#CCD2D4'\n",
    "RED_COLOR = '#D8505F'\n",
    "BLUE_COLOR = '#3389BD'"
   ]
  },
  {
   "cell_type": "code",
   "execution_count": 634,
   "metadata": {},
   "outputs": [],
   "source": [
    "grid_options = {\n",
    "    'gridColor': GRAY_COLOR, \n",
    "    'gridDash': [2, 2],\n",
    "    'gridOpacity': 0.8\n",
    "}"
   ]
  },
  {
   "cell_type": "code",
   "execution_count": 635,
   "metadata": {},
   "outputs": [],
   "source": [
    "def add_line(base, line_type, color, strokeDash=None):\n",
    "    options = {\n",
    "        'color': color,\n",
    "    }\n",
    "    if strokeDash is not None:\n",
    "        options['strokeDash'] = strokeDash\n",
    "        \n",
    "    line = base.mark_line(**options).encode(\n",
    "        y=alt.Y('population', scale=alt.Scale(domain=[15, 55]), axis=alt.Axis(tickMinStep=5, tickColor=BLACK_COLOR, title=None, **grid_options))\n",
    "    ).transform_filter(alt.FieldEqualPredicate(field='type', equal=line_type))\n",
    "    return line"
   ]
  },
  {
   "cell_type": "markdown",
   "metadata": {},
   "source": [
    "## make X-axis and base chart"
   ]
  },
  {
   "cell_type": "code",
   "execution_count": 660,
   "metadata": {},
   "outputs": [],
   "source": [
    "x = alt.X('year', scale=alt.Scale(domain=[1950, 2100]), axis=alt.Axis(values=[1950, 1991, 2020, 2100], tickColor=BLACK_COLOR, title=None, **grid_options))\n",
    "base = alt.Chart(pop, width=1000, height=650).encode(x=x)"
   ]
  },
  {
   "cell_type": "markdown",
   "metadata": {},
   "source": [
    "## make 'estimate' and 'projection' text fields"
   ]
  },
  {
   "cell_type": "code",
   "execution_count": 661,
   "metadata": {},
   "outputs": [],
   "source": [
    "text_data = pd.DataFrame({'text': ['estimate', 'projection'], 'year': [1985, 2060], 'position': [53, 53], 'top_color': ['blue', 'red']})"
   ]
  },
  {
   "cell_type": "code",
   "execution_count": 662,
   "metadata": {},
   "outputs": [
    {
     "data": {
      "application/vnd.vegalite.v3+json": {
       "$schema": "https://vega.github.io/schema/vega-lite/v3.4.0.json",
       "config": {
        "mark": {
         "tooltip": null
        },
        "view": {
         "height": 300,
         "width": 400
        }
       },
       "data": {
        "name": "data-9b0e8a4eef8c8c4e88420d448239e40d"
       },
       "datasets": {
        "data-9b0e8a4eef8c8c4e88420d448239e40d": [
         {
          "position": 53,
          "text": "estimate",
          "top_color": "blue",
          "year": 1985
         },
         {
          "position": 53,
          "text": "projection",
          "top_color": "red",
          "year": 2060
         }
        ]
       },
       "encoding": {
        "color": {
         "field": "top_color",
         "legend": null,
         "scale": {
          "domain": [
           "normal",
           "blue",
           "red"
          ],
          "range": [
           "#5D646F",
           "#3389BD",
           "#D8505F"
          ]
         },
         "type": "nominal"
        },
        "text": {
         "field": "text",
         "type": "nominal"
        },
        "x": {
         "axis": {
          "gridColor": "#CCD2D4",
          "gridDash": [
           2,
           2
          ],
          "gridOpacity": 0.8,
          "tickColor": "#5D646F",
          "title": null,
          "values": [
           1950,
           1991,
           2020,
           2100
          ]
         },
         "field": "year",
         "scale": {
          "domain": [
           1950,
           2100
          ]
         },
         "type": "quantitative"
        },
        "y": {
         "axis": null,
         "field": "position",
         "scale": {
          "domain": [
           15,
           55
          ]
         },
         "title": null,
         "type": "quantitative"
        }
       },
       "height": 650,
       "mark": {
        "size": 16,
        "type": "text"
       },
       "width": 1000
      },
      "image/png": "[encoded data removed]",
      "text/plain": [
       "<VegaLite 3 object>\n",
       "\n",
       "If you see this message, it means the renderer has not been properly enabled\n",
       "for the frontend that you are using. For more information, see\n",
       "https://altair-viz.github.io/user_guide/troubleshooting.html\n"
      ]
     },
     "execution_count": 662,
     "metadata": {},
     "output_type": "execute_result"
    }
   ],
   "source": [
    "top_text = alt.Chart(text_data, width=1000, height=650).encode(x=x)\n",
    "top_text = top_text.mark_text(size=16).encode(\n",
    "    y=alt.Y('position:Q', title=None, axis=None,  scale=alt.Scale(domain=[15, 55])),\n",
    "    text=alt.Text('text:N'),\n",
    "    color=alt.Color('top_color:N', scale=alt.Scale(domain=['normal', 'blue', 'red'], range=[BLACK_COLOR, BLUE_COLOR, RED_COLOR]), legend=None))\n",
    "top_text"
   ]
  },
  {
   "cell_type": "markdown",
   "metadata": {},
   "source": [
    "## make lines"
   ]
  },
  {
   "cell_type": "code",
   "execution_count": 663,
   "metadata": {},
   "outputs": [],
   "source": [
    "line_names = list(pop.type.unique())\n",
    "lines = []\n",
    "line_names.remove('estimate')\n",
    "lines.append(add_line(base, 'estimate', '#3389BD'))\n",
    "for line_name in line_names:\n",
    "    lines.append(add_line(base, line_name, '#D8505F', [6, 2]))"
   ]
  },
  {
   "cell_type": "markdown",
   "metadata": {},
   "source": [
    "## concat text and lines"
   ]
  },
  {
   "cell_type": "code",
   "execution_count": 664,
   "metadata": {},
   "outputs": [
    {
     "data": {
      "application/vnd.vegalite.v3+json": {
       "$schema": "https://vega.github.io/schema/vega-lite/v3.4.0.json",
       "config": {
        "mark": {
         "tooltip": null
        },
        "view": {
         "height": 300,
         "width": 400
        }
       },
       "datasets": {
        "data-14351e6737e7fcbd5a1815435c4fe4a2": [
         {
          "population": 37.29764,
          "type": "estimate",
          "year": 1950
         },
         {
          "population": 37.81554,
          "type": "estimate",
          "year": 1951
         },
         {
          "population": 38.360078,
          "type": "estimate",
          "year": 1952
         },
         {
          "population": 38.915814,
          "type": "estimate",
          "year": 1953
         },
         {
          "population": 39.471402999999995,
          "type": "estimate",
          "year": 1954
         },
         {
          "population": 40.019483,
          "type": "estimate",
          "year": 1955
         },
         {
          "population": 40.557034,
          "type": "estimate",
          "year": 1956
         },
         {
          "population": 41.085019,
          "type": "estimate",
          "year": 1957
         },
         {
          "population": 41.607893,
          "type": "estimate",
          "year": 1958
         },
         {
          "population": 42.13244,
          "type": "estimate",
          "year": 1959
         },
         {
          "population": 42.66464599999999,
          "type": "estimate",
          "year": 1960
         },
         {
          "population": 43.20635299999999,
          "type": "estimate",
          "year": 1961
         },
         {
          "population": 43.752227,
          "type": "estimate",
          "year": 1962
         },
         {
          "population": 44.288607000000006,
          "type": "estimate",
          "year": 1963
         },
         {
          "population": 44.796959,
          "type": "estimate",
          "year": 1964
         },
         {
          "population": 45.264552,
          "type": "estimate",
          "year": 1965
         },
         {
          "population": 45.684983,
          "type": "estimate",
          "year": 1966
         },
         {
          "population": 46.063219000000004,
          "type": "estimate",
          "year": 1967
         },
         {
          "population": 46.411816,
          "type": "estimate",
          "year": 1968
         },
         {
          "population": 46.749289000000005,
          "type": "estimate",
          "year": 1969
         },
         {
          "population": 47.088862,
          "type": "estimate",
          "year": 1970
         },
         {
          "population": 47.435008,
          "type": "estimate",
          "year": 1971
         },
         {
          "population": 47.78300599999999,
          "type": "estimate",
          "year": 1972
         },
         {
          "population": 48.125829,
          "type": "estimate",
          "year": 1973
         },
         {
          "population": 48.452623,
          "type": "estimate",
          "year": 1974
         },
         {
          "population": 48.755662,
          "type": "estimate",
          "year": 1975
         },
         {
          "population": 49.032729,
          "type": "estimate",
          "year": 1976
         },
         {
          "population": 49.28711799999999,
          "type": "estimate",
          "year": 1977
         },
         {
          "population": 49.523304,
          "type": "estimate",
          "year": 1978
         },
         {
          "population": 49.747998,
          "type": "estimate",
          "year": 1979
         },
         {
          "population": 49.965872000000005,
          "type": "estimate",
          "year": 1980
         },
         {
          "population": 50.176399,
          "type": "estimate",
          "year": 1981
         },
         {
          "population": 50.377069000000006,
          "type": "estimate",
          "year": 1982
         },
         {
          "population": 50.568025,
          "type": "estimate",
          "year": 1983
         },
         {
          "population": 50.749176,
          "type": "estimate",
          "year": 1984
         },
         {
          "population": 50.919275,
          "type": "estimate",
          "year": 1985
         },
         {
          "population": 51.077457,
          "type": "estimate",
          "year": 1986
         },
         {
          "population": 51.219910999999996,
          "type": "estimate",
          "year": 1987
         },
         {
          "population": 51.338392,
          "type": "estimate",
          "year": 1988
         },
         {
          "population": 51.422337999999996,
          "type": "estimate",
          "year": 1989
         },
         {
          "population": 51.463100999999995,
          "type": "estimate",
          "year": 1990
         },
         {
          "population": 51.461273,
          "type": "estimate",
          "year": 1991
         },
         {
          "population": 51.415957,
          "type": "estimate",
          "year": 1992
         },
         {
          "population": 51.316013,
          "type": "estimate",
          "year": 1993
         },
         {
          "population": 51.14777099999999,
          "type": "estimate",
          "year": 1994
         },
         {
          "population": 50.903783,
          "type": "estimate",
          "year": 1995
         },
         {
          "population": 50.580467000000006,
          "type": "estimate",
          "year": 1996
         },
         {
          "population": 50.18728,
          "type": "estimate",
          "year": 1997
         },
         {
          "population": 49.746523,
          "type": "estimate",
          "year": 1998
         },
         {
          "population": 49.288739,
          "type": "estimate",
          "year": 1999
         },
         {
          "population": 48.838058,
          "type": "estimate",
          "year": 2000
         },
         {
          "population": 48.401648,
          "type": "estimate",
          "year": 2001
         },
         {
          "population": 47.980033,
          "type": "estimate",
          "year": 2002
         },
         {
          "population": 47.582463,
          "type": "estimate",
          "year": 2003
         },
         {
          "population": 47.217489,
          "type": "estimate",
          "year": 2004
         },
         {
          "population": 46.890775000000005,
          "type": "estimate",
          "year": 2005
         },
         {
          "population": 46.607397000000006,
          "type": "estimate",
          "year": 2006
         },
         {
          "population": 46.366347000000005,
          "type": "estimate",
          "year": 2007
         },
         {
          "population": 46.158709,
          "type": "estimate",
          "year": 2008
         },
         {
          "population": 45.970942,
          "type": "estimate",
          "year": 2009
         },
         {
          "population": 45.792086,
          "type": "estimate",
          "year": 2010
         },
         {
          "population": 45.61985,
          "type": "estimate",
          "year": 2011
         },
         {
          "population": 45.453805,
          "type": "estimate",
          "year": 2012
         },
         {
          "population": 45.286988,
          "type": "estimate",
          "year": 2013
         },
         {
          "population": 45.11153,
          "type": "estimate",
          "year": 2014
         },
         {
          "population": 44.921636,
          "type": "estimate",
          "year": 2015
         },
         {
          "population": 44.713708,
          "type": "estimate",
          "year": 2016
         },
         {
          "population": 44.487708,
          "type": "estimate",
          "year": 2017
         },
         {
          "population": 44.246157999999994,
          "type": "estimate",
          "year": 2018
         },
         {
          "population": 43.993643,
          "type": "estimate",
          "year": 2019
         },
         {
          "population": 43.733759000000006,
          "type": "estimate",
          "year": 2020
         },
         {
          "population": 43.733759000000006,
          "type": "medium variant",
          "year": 2020
         },
         {
          "population": 43.466822,
          "type": "medium variant",
          "year": 2021
         },
         {
          "population": 43.19212,
          "type": "medium variant",
          "year": 2022
         },
         {
          "population": 42.911305999999996,
          "type": "medium variant",
          "year": 2023
         },
         {
          "population": 42.626269,
          "type": "medium variant",
          "year": 2024
         },
         {
          "population": 42.338589000000006,
          "type": "medium variant",
          "year": 2025
         },
         {
          "population": 42.049215999999994,
          "type": "medium variant",
          "year": 2026
         },
         {
          "population": 41.758643,
          "type": "medium variant",
          "year": 2027
         },
         {
          "population": 41.467225,
          "type": "medium variant",
          "year": 2028
         },
         {
          "population": 41.175058,
          "type": "medium variant",
          "year": 2029
         },
         {
          "population": 40.882332999999996,
          "type": "medium variant",
          "year": 2030
         },
         {
          "population": 40.589437000000004,
          "type": "medium variant",
          "year": 2031
         },
         {
          "population": 40.296879999999994,
          "type": "medium variant",
          "year": 2032
         },
         {
          "population": 40.005067000000004,
          "type": "medium variant",
          "year": 2033
         },
         {
          "population": 39.714398,
          "type": "medium variant",
          "year": 2034
         },
         {
          "population": 39.425165,
          "type": "medium variant",
          "year": 2035
         },
         {
          "population": 39.137598,
          "type": "medium variant",
          "year": 2036
         },
         {
          "population": 38.851724000000004,
          "type": "medium variant",
          "year": 2037
         },
         {
          "population": 38.567427,
          "type": "medium variant",
          "year": 2038
         },
         {
          "population": 38.284416,
          "type": "medium variant",
          "year": 2039
         },
         {
          "population": 38.002489999999995,
          "type": "medium variant",
          "year": 2040
         },
         {
          "population": 37.721611,
          "type": "medium variant",
          "year": 2041
         },
         {
          "population": 37.44174700000001,
          "type": "medium variant",
          "year": 2042
         },
         {
          "population": 37.162735,
          "type": "medium variant",
          "year": 2043
         },
         {
          "population": 36.884349,
          "type": "medium variant",
          "year": 2044
         },
         {
          "population": 36.606383,
          "type": "medium variant",
          "year": 2045
         },
         {
          "population": 36.328739999999996,
          "type": "medium variant",
          "year": 2046
         },
         {
          "population": 36.051336000000006,
          "type": "medium variant",
          "year": 2047
         },
         {
          "population": 35.774011,
          "type": "medium variant",
          "year": 2048
         },
         {
          "population": 35.496632000000005,
          "type": "medium variant",
          "year": 2049
         },
         {
          "population": 35.219046,
          "type": "medium variant",
          "year": 2050
         },
         {
          "population": 34.94124,
          "type": "medium variant",
          "year": 2051
         },
         {
          "population": 34.663197,
          "type": "medium variant",
          "year": 2052
         },
         {
          "population": 34.384751,
          "type": "medium variant",
          "year": 2053
         },
         {
          "population": 34.105732,
          "type": "medium variant",
          "year": 2054
         },
         {
          "population": 33.826061,
          "type": "medium variant",
          "year": 2055
         },
         {
          "population": 33.545778,
          "type": "medium variant",
          "year": 2056
         },
         {
          "population": 33.265074,
          "type": "medium variant",
          "year": 2057
         },
         {
          "population": 32.984190999999996,
          "type": "medium variant",
          "year": 2058
         },
         {
          "population": 32.703478,
          "type": "medium variant",
          "year": 2059
         },
         {
          "population": 32.423255,
          "type": "medium variant",
          "year": 2060
         },
         {
          "population": 32.143782,
          "type": "medium variant",
          "year": 2061
         },
         {
          "population": 31.865329,
          "type": "medium variant",
          "year": 2062
         },
         {
          "population": 31.588343999999996,
          "type": "medium variant",
          "year": 2063
         },
         {
          "population": 31.313304,
          "type": "medium variant",
          "year": 2064
         },
         {
          "population": 31.040686,
          "type": "medium variant",
          "year": 2065
         },
         {
          "population": 30.770827999999998,
          "type": "medium variant",
          "year": 2066
         },
         {
          "population": 30.504096,
          "type": "medium variant",
          "year": 2067
         },
         {
          "population": 30.240979,
          "type": "medium variant",
          "year": 2068
         },
         {
          "population": 29.982052000000003,
          "type": "medium variant",
          "year": 2069
         },
         {
          "population": 29.727777000000003,
          "type": "medium variant",
          "year": 2070
         },
         {
          "population": 29.478455,
          "type": "medium variant",
          "year": 2071
         },
         {
          "population": 29.23437,
          "type": "medium variant",
          "year": 2072
         },
         {
          "population": 28.995894,
          "type": "medium variant",
          "year": 2073
         },
         {
          "population": 28.763392000000003,
          "type": "medium variant",
          "year": 2074
         },
         {
          "population": 28.537156000000003,
          "type": "medium variant",
          "year": 2075
         },
         {
          "population": 28.317332,
          "type": "medium variant",
          "year": 2076
         },
         {
          "population": 28.103952999999997,
          "type": "medium variant",
          "year": 2077
         },
         {
          "population": 27.897082,
          "type": "medium variant",
          "year": 2078
         },
         {
          "population": 27.696728,
          "type": "medium variant",
          "year": 2079
         },
         {
          "population": 27.502824,
          "type": "medium variant",
          "year": 2080
         },
         {
          "population": 27.315267999999996,
          "type": "medium variant",
          "year": 2081
         },
         {
          "population": 27.133861,
          "type": "medium variant",
          "year": 2082
         },
         {
          "population": 26.958197,
          "type": "medium variant",
          "year": 2083
         },
         {
          "population": 26.787772,
          "type": "medium variant",
          "year": 2084
         },
         {
          "population": 26.622097999999998,
          "type": "medium variant",
          "year": 2085
         },
         {
          "population": 26.460883,
          "type": "medium variant",
          "year": 2086
         },
         {
          "population": 26.303784,
          "type": "medium variant",
          "year": 2087
         },
         {
          "population": 26.150178,
          "type": "medium variant",
          "year": 2088
         },
         {
          "population": 25.999366000000002,
          "type": "medium variant",
          "year": 2089
         },
         {
          "population": 25.850732999999998,
          "type": "medium variant",
          "year": 2090
         },
         {
          "population": 25.703826,
          "type": "medium variant",
          "year": 2091
         },
         {
          "population": 25.558328999999997,
          "type": "medium variant",
          "year": 2092
         },
         {
          "population": 25.413992,
          "type": "medium variant",
          "year": 2093
         },
         {
          "population": 25.270622000000003,
          "type": "medium variant",
          "year": 2094
         },
         {
          "population": 25.127984,
          "type": "medium variant",
          "year": 2095
         },
         {
          "population": 24.985775,
          "type": "medium variant",
          "year": 2096
         },
         {
          "population": 24.843662000000002,
          "type": "medium variant",
          "year": 2097
         },
         {
          "population": 24.701220000000003,
          "type": "medium variant",
          "year": 2098
         },
         {
          "population": 24.557993999999997,
          "type": "medium variant",
          "year": 2099
         },
         {
          "population": 24.413452,
          "type": "medium variant",
          "year": 2100
         },
         {
          "population": 43.733759000000006,
          "type": "high variant",
          "year": 2020
         },
         {
          "population": 43.510982000000006,
          "type": "high variant",
          "year": 2021
         },
         {
          "population": 43.29286,
          "type": "high variant",
          "year": 2022
         },
         {
          "population": 43.078590999999996,
          "type": "high variant",
          "year": 2023
         },
         {
          "population": 42.86759,
          "type": "high variant",
          "year": 2024
         },
         {
          "population": 42.65951999999999,
          "type": "high variant",
          "year": 2025
         },
         {
          "population": 42.454279,
          "type": "high variant",
          "year": 2026
         },
         {
          "population": 42.25203400000001,
          "type": "high variant",
          "year": 2027
         },
         {
          "population": 42.053129999999996,
          "type": "high variant",
          "year": 2028
         },
         {
          "population": 41.858049,
          "type": "high variant",
          "year": 2029
         },
         {
          "population": 41.667187999999996,
          "type": "high variant",
          "year": 2030
         },
         {
          "population": 41.480667000000004,
          "type": "high variant",
          "year": 2031
         },
         {
          "population": 41.298117999999995,
          "type": "high variant",
          "year": 2032
         },
         {
          "population": 41.118601000000005,
          "type": "high variant",
          "year": 2033
         },
         {
          "population": 40.940864999999995,
          "type": "high variant",
          "year": 2034
         },
         {
          "population": 40.763980000000004,
          "type": "high variant",
          "year": 2035
         },
         {
          "population": 40.587641000000005,
          "type": "high variant",
          "year": 2036
         },
         {
          "population": 40.412036,
          "type": "high variant",
          "year": 2037
         },
         {
          "population": 40.237542000000005,
          "type": "high variant",
          "year": 2038
         },
         {
          "population": 40.064686,
          "type": "high variant",
          "year": 2039
         },
         {
          "population": 39.893925,
          "type": "high variant",
          "year": 2040
         },
         {
          "population": 39.725356,
          "type": "high variant",
          "year": 2041
         },
         {
          "population": 39.558893,
          "type": "high variant",
          "year": 2042
         },
         {
          "population": 39.3947,
          "type": "high variant",
          "year": 2043
         },
         {
          "population": 39.232946000000005,
          "type": "high variant",
          "year": 2044
         },
         {
          "population": 39.073785,
          "type": "high variant",
          "year": 2045
         },
         {
          "population": 38.917317000000004,
          "type": "high variant",
          "year": 2046
         },
         {
          "population": 38.76366,
          "type": "high variant",
          "year": 2047
         },
         {
          "population": 38.612927000000006,
          "type": "high variant",
          "year": 2048
         },
         {
          "population": 38.465247000000005,
          "type": "high variant",
          "year": 2049
         },
         {
          "population": 38.320726,
          "type": "high variant",
          "year": 2050
         },
         {
          "population": 38.179494,
          "type": "high variant",
          "year": 2051
         },
         {
          "population": 38.041629,
          "type": "high variant",
          "year": 2052
         },
         {
          "population": 37.907094,
          "type": "high variant",
          "year": 2053
         },
         {
          "population": 37.775811000000004,
          "type": "high variant",
          "year": 2054
         },
         {
          "population": 37.647762,
          "type": "high variant",
          "year": 2055
         },
         {
          "population": 37.523022000000005,
          "type": "high variant",
          "year": 2056
         },
         {
          "population": 37.401732,
          "type": "high variant",
          "year": 2057
         },
         {
          "population": 37.284040999999995,
          "type": "high variant",
          "year": 2058
         },
         {
          "population": 37.170198,
          "type": "high variant",
          "year": 2059
         },
         {
          "population": 37.060356,
          "type": "high variant",
          "year": 2060
         },
         {
          "population": 36.954714,
          "type": "high variant",
          "year": 2061
         },
         {
          "population": 36.853398999999996,
          "type": "high variant",
          "year": 2062
         },
         {
          "population": 36.756507000000006,
          "type": "high variant",
          "year": 2063
         },
         {
          "population": 36.664105000000006,
          "type": "high variant",
          "year": 2064
         },
         {
          "population": 36.57631200000001,
          "type": "high variant",
          "year": 2065
         },
         {
          "population": 36.493326,
          "type": "high variant",
          "year": 2066
         },
         {
          "population": 36.415372000000005,
          "type": "high variant",
          "year": 2067
         },
         {
          "population": 36.34279,
          "type": "high variant",
          "year": 2068
         },
         {
          "population": 36.275917,
          "type": "high variant",
          "year": 2069
         },
         {
          "population": 36.215116,
          "type": "high variant",
          "year": 2070
         },
         {
          "population": 36.160568,
          "type": "high variant",
          "year": 2071
         },
         {
          "population": 36.112487,
          "type": "high variant",
          "year": 2072
         },
         {
          "population": 36.07132,
          "type": "high variant",
          "year": 2073
         },
         {
          "population": 36.03748,
          "type": "high variant",
          "year": 2074
         },
         {
          "population": 36.011351000000005,
          "type": "high variant",
          "year": 2075
         },
         {
          "population": 35.993059,
          "type": "high variant",
          "year": 2076
         },
         {
          "population": 35.98266,
          "type": "high variant",
          "year": 2077
         },
         {
          "population": 35.980359,
          "type": "high variant",
          "year": 2078
         },
         {
          "population": 35.986339,
          "type": "high variant",
          "year": 2079
         },
         {
          "population": 36.000687000000006,
          "type": "high variant",
          "year": 2080
         },
         {
          "population": 36.023347,
          "type": "high variant",
          "year": 2081
         },
         {
          "population": 36.054128,
          "type": "high variant",
          "year": 2082
         },
         {
          "population": 36.092706,
          "type": "high variant",
          "year": 2083
         },
         {
          "population": 36.138642999999995,
          "type": "high variant",
          "year": 2084
         },
         {
          "population": 36.191506000000004,
          "type": "high variant",
          "year": 2085
         },
         {
          "population": 36.251001,
          "type": "high variant",
          "year": 2086
         },
         {
          "population": 36.316761,
          "type": "high variant",
          "year": 2087
         },
         {
          "population": 36.388148,
          "type": "high variant",
          "year": 2088
         },
         {
          "population": 36.464468000000004,
          "type": "high variant",
          "year": 2089
         },
         {
          "population": 36.545037,
          "type": "high variant",
          "year": 2090
         },
         {
          "population": 36.629342,
          "type": "high variant",
          "year": 2091
         },
         {
          "population": 36.716933,
          "type": "high variant",
          "year": 2092
         },
         {
          "population": 36.807455999999995,
          "type": "high variant",
          "year": 2093
         },
         {
          "population": 36.900529,
          "type": "high variant",
          "year": 2094
         },
         {
          "population": 36.995732000000004,
          "type": "high variant",
          "year": 2095
         },
         {
          "population": 37.092588,
          "type": "high variant",
          "year": 2096
         },
         {
          "population": 37.190557999999996,
          "type": "high variant",
          "year": 2097
         },
         {
          "population": 37.288993999999995,
          "type": "high variant",
          "year": 2098
         },
         {
          "population": 37.387212999999996,
          "type": "high variant",
          "year": 2099
         },
         {
          "population": 37.484422,
          "type": "high variant",
          "year": 2100
         },
         {
          "population": 43.733759000000006,
          "type": "low variant",
          "year": 2020
         },
         {
          "population": 43.416407,
          "type": "low variant",
          "year": 2021
         },
         {
          "population": 43.08377099999999,
          "type": "low variant",
          "year": 2022
         },
         {
          "population": 42.738389000000005,
          "type": "low variant",
          "year": 2023
         },
         {
          "population": 42.382422,
          "type": "low variant",
          "year": 2024
         },
         {
          "population": 42.01766099999999,
          "type": "low variant",
          "year": 2025
         },
         {
          "population": 41.64544600000001,
          "type": "low variant",
          "year": 2026
         },
         {
          "population": 41.266779,
          "type": "low variant",
          "year": 2027
         },
         {
          "population": 40.882304,
          "type": "low variant",
          "year": 2028
         },
         {
          "population": 40.492407,
          "type": "low variant",
          "year": 2029
         },
         {
          "population": 40.097479,
          "type": "low variant",
          "year": 2030
         },
         {
          "population": 39.698166,
          "type": "low variant",
          "year": 2031
         },
         {
          "population": 39.295592000000006,
          "type": "low variant",
          "year": 2032
         },
         {
          "population": 38.8915,
          "type": "low variant",
          "year": 2033
         },
         {
          "population": 38.487917,
          "type": "low variant",
          "year": 2034
         },
         {
          "population": 38.086355000000005,
          "type": "low variant",
          "year": 2035
         },
         {
          "population": 37.687673,
          "type": "low variant",
          "year": 2036
         },
         {
          "population": 37.29181200000001,
          "type": "low variant",
          "year": 2037
         },
         {
          "population": 36.898283,
          "type": "low variant",
          "year": 2038
         },
         {
          "population": 36.506108,
          "type": "low variant",
          "year": 2039
         },
         {
          "population": 36.114527,
          "type": "low variant",
          "year": 2040
         },
         {
          "population": 35.723487,
          "type": "low variant",
          "year": 2041
         },
         {
          "population": 35.333164,
          "type": "low variant",
          "year": 2042
         },
         {
          "population": 34.943284,
          "type": "low variant",
          "year": 2043
         },
         {
          "population": 34.553496,
          "type": "low variant",
          "year": 2044
         },
         {
          "population": 34.16352200000001,
          "type": "low variant",
          "year": 2045
         },
         {
          "population": 33.773167,
          "type": "low variant",
          "year": 2046
         },
         {
          "population": 33.382263,
          "type": "low variant",
          "year": 2047
         },
         {
          "population": 32.99059200000001,
          "type": "low variant",
          "year": 2048
         },
         {
          "population": 32.59789,
          "type": "low variant",
          "year": 2049
         },
         {
          "population": 32.203978,
          "type": "low variant",
          "year": 2050
         },
         {
          "population": 31.808765,
          "type": "low variant",
          "year": 2051
         },
         {
          "population": 31.41218,
          "type": "low variant",
          "year": 2052
         },
         {
          "population": 31.013982999999996,
          "type": "low variant",
          "year": 2053
         },
         {
          "population": 30.613917,
          "type": "low variant",
          "year": 2054
         },
         {
          "population": 30.211843,
          "type": "low variant",
          "year": 2055
         },
         {
          "population": 29.807811,
          "type": "low variant",
          "year": 2056
         },
         {
          "population": 29.401982000000004,
          "type": "low variant",
          "year": 2057
         },
         {
          "population": 28.994602999999998,
          "type": "low variant",
          "year": 2058
         },
         {
          "population": 28.585959,
          "type": "low variant",
          "year": 2059
         },
         {
          "population": 28.176402000000003,
          "type": "low variant",
          "year": 2060
         },
         {
          "population": 27.766202,
          "type": "low variant",
          "year": 2061
         },
         {
          "population": 27.355716,
          "type": "low variant",
          "year": 2062
         },
         {
          "population": 26.945520000000002,
          "type": "low variant",
          "year": 2063
         },
         {
          "population": 26.536297,
          "type": "low variant",
          "year": 2064
         },
         {
          "population": 26.128687999999997,
          "type": "low variant",
          "year": 2065
         },
         {
          "population": 25.723141,
          "type": "low variant",
          "year": 2066
         },
         {
          "population": 25.320076,
          "type": "low variant",
          "year": 2067
         },
         {
          "population": 24.920132000000002,
          "type": "low variant",
          "year": 2068
         },
         {
          "population": 24.524034,
          "type": "low variant",
          "year": 2069
         },
         {
          "population": 24.132394,
          "type": "low variant",
          "year": 2070
         },
         {
          "population": 23.745606,
          "type": "low variant",
          "year": 2071
         },
         {
          "population": 23.364022000000002,
          "type": "low variant",
          "year": 2072
         },
         {
          "population": 22.988125,
          "type": "low variant",
          "year": 2073
         },
         {
          "population": 22.618387000000002,
          "type": "low variant",
          "year": 2074
         },
         {
          "population": 22.255183,
          "type": "low variant",
          "year": 2075
         },
         {
          "population": 21.898712000000003,
          "type": "low variant",
          "year": 2076
         },
         {
          "population": 21.54909,
          "type": "low variant",
          "year": 2077
         },
         {
          "population": 21.206401000000003,
          "type": "low variant",
          "year": 2078
         },
         {
          "population": 20.870681,
          "type": "low variant",
          "year": 2079
         },
         {
          "population": 20.541871,
          "type": "low variant",
          "year": 2080
         },
         {
          "population": 20.219939,
          "type": "low variant",
          "year": 2081
         },
         {
          "population": 19.904688999999998,
          "type": "low variant",
          "year": 2082
         },
         {
          "population": 19.59576,
          "type": "low variant",
          "year": 2083
         },
         {
          "population": 19.292657,
          "type": "low variant",
          "year": 2084
         },
         {
          "population": 18.994908,
          "type": "low variant",
          "year": 2085
         },
         {
          "population": 18.702258,
          "type": "low variant",
          "year": 2086
         },
         {
          "population": 18.414391,
          "type": "low variant",
          "year": 2087
         },
         {
          "population": 18.130688999999997,
          "type": "low variant",
          "year": 2088
         },
         {
          "population": 17.850409,
          "type": "low variant",
          "year": 2089
         },
         {
          "population": 17.572918,
          "type": "low variant",
          "year": 2090
         },
         {
          "population": 17.297806,
          "type": "low variant",
          "year": 2091
         },
         {
          "population": 17.024823,
          "type": "low variant",
          "year": 2092
         },
         {
          "population": 16.753821,
          "type": "low variant",
          "year": 2093
         },
         {
          "population": 16.484707,
          "type": "low variant",
          "year": 2094
         },
         {
          "population": 16.217316999999998,
          "type": "low variant",
          "year": 2095
         },
         {
          "population": 15.951448999999998,
          "type": "low variant",
          "year": 2096
         },
         {
          "population": 15.686865,
          "type": "low variant",
          "year": 2097
         },
         {
          "population": 15.423223,
          "type": "low variant",
          "year": 2098
         },
         {
          "population": 15.160101000000001,
          "type": "low variant",
          "year": 2099
         },
         {
          "population": 14.897041000000002,
          "type": "low variant",
          "year": 2100
         },
         {
          "population": 43.733759000000006,
          "type": "constant fertility",
          "year": 2020
         },
         {
          "population": 43.468429,
          "type": "constant fertility",
          "year": 2021
         },
         {
          "population": 43.196458,
          "type": "constant fertility",
          "year": 2022
         },
         {
          "population": 42.918754,
          "type": "constant fertility",
          "year": 2023
         },
         {
          "population": 42.636085,
          "type": "constant fertility",
          "year": 2024
         },
         {
          "population": 42.349115999999995,
          "type": "constant fertility",
          "year": 2025
         },
         {
          "population": 42.0584,
          "type": "constant fertility",
          "year": 2026
         },
         {
          "population": 41.764377999999994,
          "type": "constant fertility",
          "year": 2027
         },
         {
          "population": 41.467392999999994,
          "type": "constant fertility",
          "year": 2028
         },
         {
          "population": 41.167703,
          "type": "constant fertility",
          "year": 2029
         },
         {
          "population": 40.865574,
          "type": "constant fertility",
          "year": 2030
         },
         {
          "population": 40.561282999999996,
          "type": "constant fertility",
          "year": 2031
         },
         {
          "population": 40.255305,
          "type": "constant fertility",
          "year": 2032
         },
         {
          "population": 39.948147000000006,
          "type": "constant fertility",
          "year": 2033
         },
         {
          "population": 39.640482000000006,
          "type": "constant fertility",
          "year": 2034
         },
         {
          "population": 39.332772000000006,
          "type": "constant fertility",
          "year": 2035
         },
         {
          "population": 39.025342,
          "type": "constant fertility",
          "year": 2036
         },
         {
          "population": 38.718235,
          "type": "constant fertility",
          "year": 2037
         },
         {
          "population": 38.41138899999999,
          "type": "constant fertility",
          "year": 2038
         },
         {
          "population": 38.104601,
          "type": "constant fertility",
          "year": 2039
         },
         {
          "population": 37.797717000000006,
          "type": "constant fertility",
          "year": 2040
         },
         {
          "population": 37.490764999999996,
          "type": "constant fertility",
          "year": 2041
         },
         {
          "population": 37.18379,
          "type": "constant fertility",
          "year": 2042
         },
         {
          "population": 36.876725,
          "type": "constant fertility",
          "year": 2043
         },
         {
          "population": 36.569455999999995,
          "type": "constant fertility",
          "year": 2044
         },
         {
          "population": 36.261877999999996,
          "type": "constant fertility",
          "year": 2045
         },
         {
          "population": 35.95394399999999,
          "type": "constant fertility",
          "year": 2046
         },
         {
          "population": 35.645598,
          "type": "constant fertility",
          "year": 2047
         },
         {
          "population": 35.336756,
          "type": "constant fertility",
          "year": 2048
         },
         {
          "population": 35.027324,
          "type": "constant fertility",
          "year": 2049
         },
         {
          "population": 34.7172,
          "type": "constant fertility",
          "year": 2050
         },
         {
          "population": 34.406415,
          "type": "constant fertility",
          "year": 2051
         },
         {
          "population": 34.094911,
          "type": "constant fertility",
          "year": 2052
         },
         {
          "population": 33.782498999999994,
          "type": "constant fertility",
          "year": 2053
         },
         {
          "population": 33.468985,
          "type": "constant fertility",
          "year": 2054
         },
         {
          "population": 33.154217,
          "type": "constant fertility",
          "year": 2055
         },
         {
          "population": 32.838237,
          "type": "constant fertility",
          "year": 2056
         },
         {
          "population": 32.521205,
          "type": "constant fertility",
          "year": 2057
         },
         {
          "population": 32.203249,
          "type": "constant fertility",
          "year": 2058
         },
         {
          "population": 31.884549,
          "type": "constant fertility",
          "year": 2059
         },
         {
          "population": 31.565348999999998,
          "type": "constant fertility",
          "year": 2060
         },
         {
          "population": 31.245839,
          "type": "constant fertility",
          "year": 2061
         },
         {
          "population": 30.926295,
          "type": "constant fertility",
          "year": 2062
         },
         {
          "population": 30.607118999999997,
          "type": "constant fertility",
          "year": 2063
         },
         {
          "population": 30.288784,
          "type": "constant fertility",
          "year": 2064
         },
         {
          "population": 29.97174,
          "type": "constant fertility",
          "year": 2065
         },
         {
          "population": 29.656325000000002,
          "type": "constant fertility",
          "year": 2066
         },
         {
          "population": 29.342907000000004,
          "type": "constant fertility",
          "year": 2067
         },
         {
          "population": 29.031993,
          "type": "constant fertility",
          "year": 2068
         },
         {
          "population": 28.724145,
          "type": "constant fertility",
          "year": 2069
         },
         {
          "population": 28.419882,
          "type": "constant fertility",
          "year": 2070
         },
         {
          "population": 28.119506,
          "type": "constant fertility",
          "year": 2071
         },
         {
          "population": 27.823342,
          "type": "constant fertility",
          "year": 2072
         },
         {
          "population": 27.531882999999997,
          "type": "constant fertility",
          "year": 2073
         },
         {
          "population": 27.245627,
          "type": "constant fertility",
          "year": 2074
         },
         {
          "population": 26.965025,
          "type": "constant fertility",
          "year": 2075
         },
         {
          "population": 26.690227000000004,
          "type": "constant fertility",
          "year": 2076
         },
         {
          "population": 26.421337000000005,
          "type": "constant fertility",
          "year": 2077
         },
         {
          "population": 26.158450000000002,
          "type": "constant fertility",
          "year": 2078
         },
         {
          "population": 25.901598999999997,
          "type": "constant fertility",
          "year": 2079
         },
         {
          "population": 25.650756,
          "type": "constant fertility",
          "year": 2080
         },
         {
          "population": 25.405846,
          "type": "constant fertility",
          "year": 2081
         },
         {
          "population": 25.166706,
          "type": "constant fertility",
          "year": 2082
         },
         {
          "population": 24.932996,
          "type": "constant fertility",
          "year": 2083
         },
         {
          "population": 24.704279,
          "type": "constant fertility",
          "year": 2084
         },
         {
          "population": 24.480107999999998,
          "type": "constant fertility",
          "year": 2085
         },
         {
          "population": 24.260240000000003,
          "type": "constant fertility",
          "year": 2086
         },
         {
          "population": 24.044304,
          "type": "constant fertility",
          "year": 2087
         },
         {
          "population": 23.831627,
          "type": "constant fertility",
          "year": 2088
         },
         {
          "population": 23.621423,
          "type": "constant fertility",
          "year": 2089
         },
         {
          "population": 23.413019,
          "type": "constant fertility",
          "year": 2090
         },
         {
          "population": 23.205912,
          "type": "constant fertility",
          "year": 2091
         },
         {
          "population": 22.999813,
          "type": "constant fertility",
          "year": 2092
         },
         {
          "population": 22.794476000000003,
          "type": "constant fertility",
          "year": 2093
         },
         {
          "population": 22.589756,
          "type": "constant fertility",
          "year": 2094
         },
         {
          "population": 22.38539,
          "type": "constant fertility",
          "year": 2095
         },
         {
          "population": 22.181096,
          "type": "constant fertility",
          "year": 2096
         },
         {
          "population": 21.976506,
          "type": "constant fertility",
          "year": 2097
         },
         {
          "population": 21.77113,
          "type": "constant fertility",
          "year": 2098
         },
         {
          "population": 21.56446,
          "type": "constant fertility",
          "year": 2099
         },
         {
          "population": 21.355851,
          "type": "constant fertility",
          "year": 2100
         },
         {
          "population": 43.733759000000006,
          "type": "instant replacement",
          "year": 2020
         },
         {
          "population": 43.58045,
          "type": "instant replacement",
          "year": 2021
         },
         {
          "population": 43.466269,
          "type": "instant replacement",
          "year": 2022
         },
         {
          "population": 43.375901,
          "type": "instant replacement",
          "year": 2023
         },
         {
          "population": 43.28668700000001,
          "type": "instant replacement",
          "year": 2024
         },
         {
          "population": 43.181991,
          "type": "instant replacement",
          "year": 2025
         },
         {
          "population": 43.057297,
          "type": "instant replacement",
          "year": 2026
         },
         {
          "population": 42.917167,
          "type": "instant replacement",
          "year": 2027
         },
         {
          "population": 42.764869000000004,
          "type": "instant replacement",
          "year": 2028
         },
         {
          "population": 42.606767999999995,
          "type": "instant replacement",
          "year": 2029
         },
         {
          "population": 42.447572,
          "type": "instant replacement",
          "year": 2030
         },
         {
          "population": 42.287439000000006,
          "type": "instant replacement",
          "year": 2031
         },
         {
          "population": 42.124597,
          "type": "instant replacement",
          "year": 2032
         },
         {
          "population": 41.95986799999999,
          "type": "instant replacement",
          "year": 2033
         },
         {
          "population": 41.794046,
          "type": "instant replacement",
          "year": 2034
         },
         {
          "population": 41.627887,
          "type": "instant replacement",
          "year": 2035
         },
         {
          "population": 41.462078999999996,
          "type": "instant replacement",
          "year": 2036
         },
         {
          "population": 41.29716200000001,
          "type": "instant replacement",
          "year": 2037
         },
         {
          "population": 41.133583,
          "type": "instant replacement",
          "year": 2038
         },
         {
          "population": 40.971712999999994,
          "type": "instant replacement",
          "year": 2039
         },
         {
          "population": 40.811949,
          "type": "instant replacement",
          "year": 2040
         },
         {
          "population": 40.654635,
          "type": "instant replacement",
          "year": 2041
         },
         {
          "population": 40.500271,
          "type": "instant replacement",
          "year": 2042
         },
         {
          "population": 40.349595,
          "type": "instant replacement",
          "year": 2043
         },
         {
          "population": 40.203441,
          "type": "instant replacement",
          "year": 2044
         },
         {
          "population": 40.062405,
          "type": "instant replacement",
          "year": 2045
         },
         {
          "population": 39.926786,
          "type": "instant replacement",
          "year": 2046
         },
         {
          "population": 39.79661,
          "type": "instant replacement",
          "year": 2047
         },
         {
          "population": 39.671873999999995,
          "type": "instant replacement",
          "year": 2048
         },
         {
          "population": 39.552459000000006,
          "type": "instant replacement",
          "year": 2049
         },
         {
          "population": 39.438227,
          "type": "instant replacement",
          "year": 2050
         },
         {
          "population": 39.329162000000004,
          "type": "instant replacement",
          "year": 2051
         },
         {
          "population": 39.225096,
          "type": "instant replacement",
          "year": 2052
         },
         {
          "population": 39.125449,
          "type": "instant replacement",
          "year": 2053
         },
         {
          "population": 39.029416,
          "type": "instant replacement",
          "year": 2054
         },
         {
          "population": 38.936347000000005,
          "type": "instant replacement",
          "year": 2055
         },
         {
          "population": 38.846023,
          "type": "instant replacement",
          "year": 2056
         },
         {
          "population": 38.758301,
          "type": "instant replacement",
          "year": 2057
         },
         {
          "population": 38.672805,
          "type": "instant replacement",
          "year": 2058
         },
         {
          "population": 38.589127,
          "type": "instant replacement",
          "year": 2059
         },
         {
          "population": 38.506964999999994,
          "type": "instant replacement",
          "year": 2060
         },
         {
          "population": 38.426276,
          "type": "instant replacement",
          "year": 2061
         },
         {
          "population": 38.34707,
          "type": "instant replacement",
          "year": 2062
         },
         {
          "population": 38.269266,
          "type": "instant replacement",
          "year": 2063
         },
         {
          "population": 38.192769999999996,
          "type": "instant replacement",
          "year": 2064
         },
         {
          "population": 38.117676,
          "type": "instant replacement",
          "year": 2065
         },
         {
          "population": 38.04410299999999,
          "type": "instant replacement",
          "year": 2066
         },
         {
          "population": 37.972449999999995,
          "type": "instant replacement",
          "year": 2067
         },
         {
          "population": 37.903439,
          "type": "instant replacement",
          "year": 2068
         },
         {
          "population": 37.838013999999994,
          "type": "instant replacement",
          "year": 2069
         },
         {
          "population": 37.777011,
          "type": "instant replacement",
          "year": 2070
         },
         {
          "population": 37.720777999999996,
          "type": "instant replacement",
          "year": 2071
         },
         {
          "population": 37.669711,
          "type": "instant replacement",
          "year": 2072
         },
         {
          "population": 37.624724,
          "type": "instant replacement",
          "year": 2073
         },
         {
          "population": 37.586872,
          "type": "instant replacement",
          "year": 2074
         },
         {
          "population": 37.55693,
          "type": "instant replacement",
          "year": 2075
         },
         {
          "population": 37.535262,
          "type": "instant replacement",
          "year": 2076
         },
         {
          "population": 37.521963,
          "type": "instant replacement",
          "year": 2077
         },
         {
          "population": 37.517199999999995,
          "type": "instant replacement",
          "year": 2078
         },
         {
          "population": 37.521042,
          "type": "instant replacement",
          "year": 2079
         },
         {
          "population": 37.533461,
          "type": "instant replacement",
          "year": 2080
         },
         {
          "population": 37.554379999999995,
          "type": "instant replacement",
          "year": 2081
         },
         {
          "population": 37.583536,
          "type": "instant replacement",
          "year": 2082
         },
         {
          "population": 37.620478999999996,
          "type": "instant replacement",
          "year": 2083
         },
         {
          "population": 37.664504,
          "type": "instant replacement",
          "year": 2084
         },
         {
          "population": 37.715001,
          "type": "instant replacement",
          "year": 2085
         },
         {
          "population": 37.771529,
          "type": "instant replacement",
          "year": 2086
         },
         {
          "population": 37.833545,
          "type": "instant replacement",
          "year": 2087
         },
         {
          "population": 37.900042,
          "type": "instant replacement",
          "year": 2088
         },
         {
          "population": 37.969877999999994,
          "type": "instant replacement",
          "year": 2089
         },
         {
          "population": 38.042009,
          "type": "instant replacement",
          "year": 2090
         },
         {
          "population": 38.11568799999999,
          "type": "instant replacement",
          "year": 2091
         },
         {
          "population": 38.19032,
          "type": "instant replacement",
          "year": 2092
         },
         {
          "population": 38.265472,
          "type": "instant replacement",
          "year": 2093
         },
         {
          "population": 38.340708,
          "type": "instant replacement",
          "year": 2094
         },
         {
          "population": 38.415546,
          "type": "instant replacement",
          "year": 2095
         },
         {
          "population": 38.489372,
          "type": "instant replacement",
          "year": 2096
         },
         {
          "population": 38.561497,
          "type": "instant replacement",
          "year": 2097
         },
         {
          "population": 38.63106200000001,
          "type": "instant replacement",
          "year": 2098
         },
         {
          "population": 38.697127,
          "type": "instant replacement",
          "year": 2099
         },
         {
          "population": 38.758607000000005,
          "type": "instant replacement",
          "year": 2100
         },
         {
          "population": 43.733759000000006,
          "type": "momentum",
          "year": 2020
         },
         {
          "population": 43.564349,
          "type": "momentum",
          "year": 2021
         },
         {
          "population": 43.426984000000004,
          "type": "momentum",
          "year": 2022
         },
         {
          "population": 43.307277,
          "type": "momentum",
          "year": 2023
         },
         {
          "population": 43.184020999999994,
          "type": "momentum",
          "year": 2024
         },
         {
          "population": 43.04175,
          "type": "momentum",
          "year": 2025
         },
         {
          "population": 42.876095,
          "type": "momentum",
          "year": 2026
         },
         {
          "population": 42.691438,
          "type": "momentum",
          "year": 2027
         },
         {
          "population": 42.491592000000004,
          "type": "momentum",
          "year": 2028
         },
         {
          "population": 42.283457999999996,
          "type": "momentum",
          "year": 2029
         },
         {
          "population": 42.072247000000004,
          "type": "momentum",
          "year": 2030
         },
         {
          "population": 41.858474,
          "type": "momentum",
          "year": 2031
         },
         {
          "population": 41.640457000000005,
          "type": "momentum",
          "year": 2032
         },
         {
          "population": 41.418808,
          "type": "momentum",
          "year": 2033
         },
         {
          "population": 41.194023,
          "type": "momentum",
          "year": 2034
         },
         {
          "population": 40.966628,
          "type": "momentum",
          "year": 2035
         },
         {
          "population": 40.737365,
          "type": "momentum",
          "year": 2036
         },
         {
          "population": 40.507062000000005,
          "type": "momentum",
          "year": 2037
         },
         {
          "population": 40.276466,
          "type": "momentum",
          "year": 2038
         },
         {
          "population": 40.046303,
          "type": "momentum",
          "year": 2039
         },
         {
          "population": 39.817288999999995,
          "type": "momentum",
          "year": 2040
         },
         {
          "population": 39.589898999999996,
          "type": "momentum",
          "year": 2041
         },
         {
          "population": 39.36475,
          "type": "momentum",
          "year": 2042
         },
         {
          "population": 39.142786,
          "type": "momentum",
          "year": 2043
         },
         {
          "population": 38.925109,
          "type": "momentum",
          "year": 2044
         },
         {
          "population": 38.712516,
          "type": "momentum",
          "year": 2045
         },
         {
          "population": 38.505458,
          "type": "momentum",
          "year": 2046
         },
         {
          "population": 38.304013,
          "type": "momentum",
          "year": 2047
         },
         {
          "population": 38.108092000000006,
          "type": "momentum",
          "year": 2048
         },
         {
          "population": 37.91743,
          "type": "momentum",
          "year": 2049
         },
         {
          "population": 37.731737,
          "type": "momentum",
          "year": 2050
         },
         {
          "population": 37.55112200000001,
          "type": "momentum",
          "year": 2051
         },
         {
          "population": 37.375502,
          "type": "momentum",
          "year": 2052
         },
         {
          "population": 37.204328000000004,
          "type": "momentum",
          "year": 2053
         },
         {
          "population": 37.036847,
          "type": "momentum",
          "year": 2054
         },
         {
          "population": 36.872468,
          "type": "momentum",
          "year": 2055
         },
         {
          "population": 36.711062000000005,
          "type": "momentum",
          "year": 2056
         },
         {
          "population": 36.552665999999995,
          "type": "momentum",
          "year": 2057
         },
         {
          "population": 36.39711799999999,
          "type": "momentum",
          "year": 2058
         },
         {
          "population": 36.244265,
          "type": "momentum",
          "year": 2059
         },
         {
          "population": 36.094083,
          "type": "momentum",
          "year": 2060
         },
         {
          "population": 35.946635,
          "type": "momentum",
          "year": 2061
         },
         {
          "population": 35.802136,
          "type": "momentum",
          "year": 2062
         },
         {
          "population": 35.66087399999999,
          "type": "momentum",
          "year": 2063
         },
         {
          "population": 35.523201,
          "type": "momentum",
          "year": 2064
         },
         {
          "population": 35.389546,
          "type": "momentum",
          "year": 2065
         },
         {
          "population": 35.26012,
          "type": "momentum",
          "year": 2066
         },
         {
          "population": 35.135361,
          "type": "momentum",
          "year": 2067
         },
         {
          "population": 35.016197,
          "type": "momentum",
          "year": 2068
         },
         {
          "population": 34.903785000000006,
          "type": "momentum",
          "year": 2069
         },
         {
          "population": 34.799080000000004,
          "type": "momentum",
          "year": 2070
         },
         {
          "population": 34.702347,
          "type": "momentum",
          "year": 2071
         },
         {
          "population": 34.613761,
          "type": "momentum",
          "year": 2072
         },
         {
          "population": 34.533851000000006,
          "type": "momentum",
          "year": 2073
         },
         {
          "population": 34.463138,
          "type": "momentum",
          "year": 2074
         },
         {
          "population": 34.401949,
          "type": "momentum",
          "year": 2075
         },
         {
          "population": 34.350325,
          "type": "momentum",
          "year": 2076
         },
         {
          "population": 34.308011,
          "type": "momentum",
          "year": 2077
         },
         {
          "population": 34.274406000000006,
          "type": "momentum",
          "year": 2078
         },
         {
          "population": 34.248684999999995,
          "type": "momentum",
          "year": 2079
         },
         {
          "population": 34.230055,
          "type": "momentum",
          "year": 2080
         },
         {
          "population": 34.218098,
          "type": "momentum",
          "year": 2081
         },
         {
          "population": 34.212322,
          "type": "momentum",
          "year": 2082
         },
         {
          "population": 34.211652,
          "type": "momentum",
          "year": 2083
         },
         {
          "population": 34.214894,
          "type": "momentum",
          "year": 2084
         },
         {
          "population": 34.220945,
          "type": "momentum",
          "year": 2085
         },
         {
          "population": 34.229212999999994,
          "type": "momentum",
          "year": 2086
         },
         {
          "population": 34.23918700000001,
          "type": "momentum",
          "year": 2087
         },
         {
          "population": 34.250077000000005,
          "type": "momentum",
          "year": 2088
         },
         {
          "population": 34.261098,
          "type": "momentum",
          "year": 2089
         },
         {
          "population": 34.271612999999995,
          "type": "momentum",
          "year": 2090
         },
         {
          "population": 34.281146,
          "type": "momentum",
          "year": 2091
         },
         {
          "population": 34.289391,
          "type": "momentum",
          "year": 2092
         },
         {
          "population": 34.29619,
          "type": "momentum",
          "year": 2093
         },
         {
          "population": 34.301449,
          "type": "momentum",
          "year": 2094
         },
         {
          "population": 34.305123,
          "type": "momentum",
          "year": 2095
         },
         {
          "population": 34.30718100000001,
          "type": "momentum",
          "year": 2096
         },
         {
          "population": 34.307621,
          "type": "momentum",
          "year": 2097
         },
         {
          "population": 34.306434,
          "type": "momentum",
          "year": 2098
         },
         {
          "population": 34.303648,
          "type": "momentum",
          "year": 2099
         },
         {
          "population": 34.299293,
          "type": "momentum",
          "year": 2100
         },
         {
          "population": 43.733759000000006,
          "type": "zero migration",
          "year": 2020
         },
         {
          "population": 43.46049299999999,
          "type": "zero migration",
          "year": 2021
         },
         {
          "population": 43.181379,
          "type": "zero migration",
          "year": 2022
         },
         {
          "population": 42.897282,
          "type": "zero migration",
          "year": 2023
         },
         {
          "population": 42.60904,
          "type": "zero migration",
          "year": 2024
         },
         {
          "population": 42.317434999999996,
          "type": "zero migration",
          "year": 2025
         },
         {
          "population": 42.023349,
          "type": "zero migration",
          "year": 2026
         },
         {
          "population": 41.727587,
          "type": "zero migration",
          "year": 2027
         },
         {
          "population": 41.430964,
          "type": "zero migration",
          "year": 2028
         },
         {
          "population": 41.134252000000004,
          "type": "zero migration",
          "year": 2029
         },
         {
          "population": 40.838134,
          "type": "zero migration",
          "year": 2030
         },
         {
          "population": 40.543121,
          "type": "zero migration",
          "year": 2031
         },
         {
          "population": 40.249542,
          "type": "zero migration",
          "year": 2032
         },
         {
          "population": 39.957451,
          "type": "zero migration",
          "year": 2033
         },
         {
          "population": 39.666737999999995,
          "type": "zero migration",
          "year": 2034
         },
         {
          "population": 39.37732,
          "type": "zero migration",
          "year": 2035
         },
         {
          "population": 39.089330000000004,
          "type": "zero migration",
          "year": 2036
         },
         {
          "population": 38.802868,
          "type": "zero migration",
          "year": 2037
         },
         {
          "population": 38.517894999999996,
          "type": "zero migration",
          "year": 2038
         },
         {
          "population": 38.234233,
          "type": "zero migration",
          "year": 2039
         },
         {
          "population": 37.951765,
          "type": "zero migration",
          "year": 2040
         },
         {
          "population": 37.670431,
          "type": "zero migration",
          "year": 2041
         },
         {
          "population": 37.390174,
          "type": "zero migration",
          "year": 2042
         },
         {
          "population": 37.11078500000001,
          "type": "zero migration",
          "year": 2043
         },
         {
          "population": 36.832076,
          "type": "zero migration",
          "year": 2044
         },
         {
          "population": 36.553809,
          "type": "zero migration",
          "year": 2045
         },
         {
          "population": 36.275903,
          "type": "zero migration",
          "year": 2046
         },
         {
          "population": 35.998262000000004,
          "type": "zero migration",
          "year": 2047
         },
         {
          "population": 35.720725,
          "type": "zero migration",
          "year": 2048
         },
         {
          "population": 35.443144000000004,
          "type": "zero migration",
          "year": 2049
         },
         {
          "population": 35.165373,
          "type": "zero migration",
          "year": 2050
         },
         {
          "population": 34.887401,
          "type": "zero migration",
          "year": 2051
         },
         {
          "population": 34.609192,
          "type": "zero migration",
          "year": 2052
         },
         {
          "population": 34.330587,
          "type": "zero migration",
          "year": 2053
         },
         {
          "population": 34.051415999999996,
          "type": "zero migration",
          "year": 2054
         },
         {
          "population": 33.771574,
          "type": "zero migration",
          "year": 2055
         },
         {
          "population": 33.491127999999996,
          "type": "zero migration",
          "year": 2056
         },
         {
          "population": 33.210260999999996,
          "type": "zero migration",
          "year": 2057
         },
         {
          "population": 32.929218999999996,
          "type": "zero migration",
          "year": 2058
         },
         {
          "population": 32.648342,
          "type": "zero migration",
          "year": 2059
         },
         {
          "population": 32.36795,
          "type": "zero migration",
          "year": 2060
         },
         {
          "population": 32.088322999999995,
          "type": "zero migration",
          "year": 2061
         },
         {
          "population": 31.809717999999997,
          "type": "zero migration",
          "year": 2062
         },
         {
          "population": 31.532584,
          "type": "zero migration",
          "year": 2063
         },
         {
          "population": 31.257412999999996,
          "type": "zero migration",
          "year": 2064
         },
         {
          "population": 30.984695,
          "type": "zero migration",
          "year": 2065
         },
         {
          "population": 30.714754,
          "type": "zero migration",
          "year": 2066
         },
         {
          "population": 30.447958,
          "type": "zero migration",
          "year": 2067
         },
         {
          "population": 30.184808999999998,
          "type": "zero migration",
          "year": 2068
         },
         {
          "population": 29.925869,
          "type": "zero migration",
          "year": 2069
         },
         {
          "population": 29.671624,
          "type": "zero migration",
          "year": 2070
         },
         {
          "population": 29.422379,
          "type": "zero migration",
          "year": 2071
         },
         {
          "population": 29.178391,
          "type": "zero migration",
          "year": 2072
         },
         {
          "population": 28.940034,
          "type": "zero migration",
          "year": 2073
         },
         {
          "population": 28.7077,
          "type": "zero migration",
          "year": 2074
         },
         {
          "population": 28.481672999999997,
          "type": "zero migration",
          "year": 2075
         },
         {
          "population": 28.26208,
          "type": "zero migration",
          "year": 2076
         },
         {
          "population": 28.048972999999997,
          "type": "zero migration",
          "year": 2077
         },
         {
          "population": 27.842392999999998,
          "type": "zero migration",
          "year": 2078
         },
         {
          "population": 27.642356,
          "type": "zero migration",
          "year": 2079
         },
         {
          "population": 27.448793,
          "type": "zero migration",
          "year": 2080
         },
         {
          "population": 27.261598999999997,
          "type": "zero migration",
          "year": 2081
         },
         {
          "population": 27.080577,
          "type": "zero migration",
          "year": 2082
         },
         {
          "population": 26.905314999999998,
          "type": "zero migration",
          "year": 2083
         },
         {
          "population": 26.735294999999997,
          "type": "zero migration",
          "year": 2084
         },
         {
          "population": 26.570037999999997,
          "type": "zero migration",
          "year": 2085
         },
         {
          "population": 26.409246,
          "type": "zero migration",
          "year": 2086
         },
         {
          "population": 26.252562,
          "type": "zero migration",
          "year": 2087
         },
         {
          "population": 26.099387999999998,
          "type": "zero migration",
          "year": 2088
         },
         {
          "population": 25.949001,
          "type": "zero migration",
          "year": 2089
         },
         {
          "population": 25.800773999999997,
          "type": "zero migration",
          "year": 2090
         },
         {
          "population": 25.654251,
          "type": "zero migration",
          "year": 2091
         },
         {
          "population": 25.509144,
          "type": "zero migration",
          "year": 2092
         },
         {
          "population": 25.36518,
          "type": "zero migration",
          "year": 2093
         },
         {
          "population": 25.222174,
          "type": "zero migration",
          "year": 2094
         },
         {
          "population": 25.07987,
          "type": "zero migration",
          "year": 2095
         },
         {
          "population": 24.937991,
          "type": "zero migration",
          "year": 2096
         },
         {
          "population": 24.796171,
          "type": "zero migration",
          "year": 2097
         },
         {
          "population": 24.654012,
          "type": "zero migration",
          "year": 2098
         },
         {
          "population": 24.511045,
          "type": "zero migration",
          "year": 2099
         },
         {
          "population": 24.366739,
          "type": "zero migration",
          "year": 2100
         },
         {
          "population": 43.733759000000006,
          "type": "constant mortality",
          "year": 2020
         },
         {
          "population": 43.447755,
          "type": "constant mortality",
          "year": 2021
         },
         {
          "population": 43.151887,
          "type": "constant mortality",
          "year": 2022
         },
         {
          "population": 42.847205,
          "type": "constant mortality",
          "year": 2023
         },
         {
          "population": 42.53471700000001,
          "type": "constant mortality",
          "year": 2024
         },
         {
          "population": 42.215297,
          "type": "constant mortality",
          "year": 2025
         },
         {
          "population": 41.889807,
          "type": "constant mortality",
          "year": 2026
         },
         {
          "population": 41.558972000000004,
          "type": "constant mortality",
          "year": 2027
         },
         {
          "population": 41.223482000000004,
          "type": "constant mortality",
          "year": 2028
         },
         {
          "population": 40.883951,
          "type": "constant mortality",
          "year": 2029
         },
         {
          "population": 40.54098200000001,
          "type": "constant mortality",
          "year": 2030
         },
         {
          "population": 40.195102999999996,
          "type": "constant mortality",
          "year": 2031
         },
         {
          "population": 39.846865,
          "type": "constant mortality",
          "year": 2032
         },
         {
          "population": 39.496822,
          "type": "constant mortality",
          "year": 2033
         },
         {
          "population": 39.145542999999996,
          "type": "constant mortality",
          "year": 2034
         },
         {
          "population": 38.793442000000006,
          "type": "constant mortality",
          "year": 2035
         },
         {
          "population": 38.440951,
          "type": "constant mortality",
          "year": 2036
         },
         {
          "population": 38.088291,
          "type": "constant mortality",
          "year": 2037
         },
         {
          "population": 37.73556200000001,
          "type": "constant mortality",
          "year": 2038
         },
         {
          "population": 37.382760000000005,
          "type": "constant mortality",
          "year": 2039
         },
         {
          "population": 37.029905,
          "type": "constant mortality",
          "year": 2040
         },
         {
          "population": 36.677085,
          "type": "constant mortality",
          "year": 2041
         },
         {
          "population": 36.32447799999999,
          "type": "constant mortality",
          "year": 2042
         },
         {
          "population": 35.972114999999995,
          "type": "constant mortality",
          "year": 2043
         },
         {
          "population": 35.620050000000006,
          "type": "constant mortality",
          "year": 2044
         },
         {
          "population": 35.268297999999994,
          "type": "constant mortality",
          "year": 2045
         },
         {
          "population": 34.916925000000006,
          "type": "constant mortality",
          "year": 2046
         },
         {
          "population": 34.565922,
          "type": "constant mortality",
          "year": 2047
         },
         {
          "population": 34.215066,
          "type": "constant mortality",
          "year": 2048
         },
         {
          "population": 33.864053999999996,
          "type": "constant mortality",
          "year": 2049
         },
         {
          "population": 33.512682,
          "type": "constant mortality",
          "year": 2050
         },
         {
          "population": 33.16103,
          "type": "constant mortality",
          "year": 2051
         },
         {
          "population": 32.809181,
          "type": "constant mortality",
          "year": 2052
         },
         {
          "population": 32.45707,
          "type": "constant mortality",
          "year": 2053
         },
         {
          "population": 32.104561000000004,
          "type": "constant mortality",
          "year": 2054
         },
         {
          "population": 31.751652000000004,
          "type": "constant mortality",
          "year": 2055
         },
         {
          "population": 31.398529999999997,
          "type": "constant mortality",
          "year": 2056
         },
         {
          "population": 31.045554,
          "type": "constant mortality",
          "year": 2057
         },
         {
          "population": 30.693215,
          "type": "constant mortality",
          "year": 2058
         },
         {
          "population": 30.342093,
          "type": "constant mortality",
          "year": 2059
         },
         {
          "population": 29.992787999999997,
          "type": "constant mortality",
          "year": 2060
         },
         {
          "population": 29.645702,
          "type": "constant mortality",
          "year": 2061
         },
         {
          "population": 29.301333,
          "type": "constant mortality",
          "year": 2062
         },
         {
          "population": 28.960499,
          "type": "constant mortality",
          "year": 2063
         },
         {
          "population": 28.624129,
          "type": "constant mortality",
          "year": 2064
         },
         {
          "population": 28.293052000000003,
          "type": "constant mortality",
          "year": 2065
         },
         {
          "population": 27.967717,
          "type": "constant mortality",
          "year": 2066
         },
         {
          "population": 27.648552000000002,
          "type": "constant mortality",
          "year": 2067
         },
         {
          "population": 27.336282999999998,
          "type": "constant mortality",
          "year": 2068
         },
         {
          "population": 27.031737,
          "type": "constant mortality",
          "year": 2069
         },
         {
          "population": 26.735501,
          "type": "constant mortality",
          "year": 2070
         },
         {
          "population": 26.447868999999997,
          "type": "constant mortality",
          "year": 2071
         },
         {
          "population": 26.16891,
          "type": "constant mortality",
          "year": 2072
         },
         {
          "population": 25.898667,
          "type": "constant mortality",
          "year": 2073
         },
         {
          "population": 25.637115,
          "type": "constant mortality",
          "year": 2074
         },
         {
          "population": 25.384087000000005,
          "type": "constant mortality",
          "year": 2075
         },
         {
          "population": 25.139508,
          "type": "constant mortality",
          "year": 2076
         },
         {
          "population": 24.903102999999998,
          "type": "constant mortality",
          "year": 2077
         },
         {
          "population": 24.674275,
          "type": "constant mortality",
          "year": 2078
         },
         {
          "population": 24.452248,
          "type": "constant mortality",
          "year": 2079
         },
         {
          "population": 24.236279999999997,
          "type": "constant mortality",
          "year": 2080
         },
         {
          "population": 24.02603,
          "type": "constant mortality",
          "year": 2081
         },
         {
          "population": 23.821081000000003,
          "type": "constant mortality",
          "year": 2082
         },
         {
          "population": 23.620577,
          "type": "constant mortality",
          "year": 2083
         },
         {
          "population": 23.423487,
          "type": "constant mortality",
          "year": 2084
         },
         {
          "population": 23.228982999999996,
          "type": "constant mortality",
          "year": 2085
         },
         {
          "population": 23.036668,
          "type": "constant mortality",
          "year": 2086
         },
         {
          "population": 22.846292000000002,
          "type": "constant mortality",
          "year": 2087
         },
         {
          "population": 22.65755,
          "type": "constant mortality",
          "year": 2088
         },
         {
          "population": 22.470227,
          "type": "constant mortality",
          "year": 2089
         },
         {
          "population": 22.284126,
          "type": "constant mortality",
          "year": 2090
         },
         {
          "population": 22.099199000000002,
          "type": "constant mortality",
          "year": 2091
         },
         {
          "population": 21.915425,
          "type": "constant mortality",
          "year": 2092
         },
         {
          "population": 21.732906000000003,
          "type": "constant mortality",
          "year": 2093
         },
         {
          "population": 21.551785,
          "type": "constant mortality",
          "year": 2094
         },
         {
          "population": 21.372297000000003,
          "type": "constant mortality",
          "year": 2095
         },
         {
          "population": 21.19475,
          "type": "constant mortality",
          "year": 2096
         },
         {
          "population": 21.019543,
          "type": "constant mortality",
          "year": 2097
         },
         {
          "population": 20.847148999999998,
          "type": "constant mortality",
          "year": 2098
         },
         {
          "population": 20.67812,
          "type": "constant mortality",
          "year": 2099
         },
         {
          "population": 20.513055,
          "type": "constant mortality",
          "year": 2100
         },
         {
          "population": 43.733759000000006,
          "type": "no change",
          "year": 2020
         },
         {
          "population": 43.452324999999995,
          "type": "no change",
          "year": 2021
         },
         {
          "population": 43.159825999999995,
          "type": "no change",
          "year": 2022
         },
         {
          "population": 42.85732599999999,
          "type": "no change",
          "year": 2023
         },
         {
          "population": 42.545696,
          "type": "no change",
          "year": 2024
         },
         {
          "population": 42.225812000000005,
          "type": "no change",
          "year": 2025
         },
         {
          "population": 41.898367,
          "type": "no change",
          "year": 2026
         },
         {
          "population": 41.564,
          "type": "no change",
          "year": 2027
         },
         {
          "population": 41.223222,
          "type": "no change",
          "year": 2028
         },
         {
          "population": 40.876497,
          "type": "no change",
          "year": 2029
         },
         {
          "population": 40.524285000000006,
          "type": "no change",
          "year": 2030
         },
         {
          "population": 40.167063999999996,
          "type": "no change",
          "year": 2031
         },
         {
          "population": 39.805437000000005,
          "type": "no change",
          "year": 2032
         },
         {
          "population": 39.440125,
          "type": "no change",
          "year": 2033
         },
         {
          "population": 39.071915999999995,
          "type": "no change",
          "year": 2034
         },
         {
          "population": 38.701435,
          "type": "no change",
          "year": 2035
         },
         {
          "population": 38.329186,
          "type": "no change",
          "year": 2036
         },
         {
          "population": 37.955415,
          "type": "no change",
          "year": 2037
         },
         {
          "population": 37.580286,
          "type": "no change",
          "year": 2038
         },
         {
          "population": 37.203838,
          "type": "no change",
          "year": 2039
         },
         {
          "population": 36.826192000000006,
          "type": "no change",
          "year": 2040
         },
         {
          "population": 36.447478,
          "type": "no change",
          "year": 2041
         },
         {
          "population": 36.067955000000005,
          "type": "no change",
          "year": 2042
         },
         {
          "population": 35.687756,
          "type": "no change",
          "year": 2043
         },
         {
          "population": 35.307056,
          "type": "no change",
          "year": 2044
         },
         {
          "population": 34.925957000000004,
          "type": "no change",
          "year": 2045
         },
         {
          "population": 34.544563,
          "type": "no change",
          "year": 2046
         },
         {
          "population": 34.162915999999996,
          "type": "no change",
          "year": 2047
         },
         {
          "population": 33.780858,
          "type": "no change",
          "year": 2048
         },
         {
          "population": 33.398146000000004,
          "type": "no change",
          "year": 2049
         },
         {
          "population": 33.014622,
          "type": "no change",
          "year": 2050
         },
         {
          "population": 32.630357000000004,
          "type": "no change",
          "year": 2051
         },
         {
          "population": 32.245474,
          "type": "no change",
          "year": 2052
         },
         {
          "population": 31.859855,
          "type": "no change",
          "year": 2053
         },
         {
          "population": 31.473315,
          "type": "no change",
          "year": 2054
         },
         {
          "population": 31.085842999999997,
          "type": "no change",
          "year": 2055
         },
         {
          "population": 30.697577999999996,
          "type": "no change",
          "year": 2056
         },
         {
          "population": 30.308873,
          "type": "no change",
          "year": 2057
         },
         {
          "population": 29.920071,
          "type": "no change",
          "year": 2058
         },
         {
          "population": 29.531652,
          "type": "no change",
          "year": 2059
         },
         {
          "population": 29.144097000000002,
          "type": "no change",
          "year": 2060
         },
         {
          "population": 28.757772,
          "type": "no change",
          "year": 2061
         },
         {
          "population": 28.373146000000002,
          "type": "no change",
          "year": 2062
         },
         {
          "population": 27.991025,
          "type": "no change",
          "year": 2063
         },
         {
          "population": 27.612334,
          "type": "no change",
          "year": 2064
         },
         {
          "population": 27.237876,
          "type": "no change",
          "year": 2065
         },
         {
          "population": 26.868111000000003,
          "type": "no change",
          "year": 2066
         },
         {
          "population": 26.503457,
          "type": "no change",
          "year": 2067
         },
         {
          "population": 26.144692000000003,
          "type": "no change",
          "year": 2068
         },
         {
          "population": 25.792613999999997,
          "type": "no change",
          "year": 2069
         },
         {
          "population": 25.447867000000002,
          "type": "no change",
          "year": 2070
         },
         {
          "population": 25.11074,
          "type": "no change",
          "year": 2071
         },
         {
          "population": 24.781384999999997,
          "type": "no change",
          "year": 2072
         },
         {
          "population": 24.459951,
          "type": "no change",
          "year": 2073
         },
         {
          "population": 24.14656,
          "type": "no change",
          "year": 2074
         },
         {
          "population": 23.841167000000002,
          "type": "no change",
          "year": 2075
         },
         {
          "population": 23.543770000000002,
          "type": "no change",
          "year": 2076
         },
         {
          "population": 23.254127999999998,
          "type": "no change",
          "year": 2077
         },
         {
          "population": 22.971691000000003,
          "type": "no change",
          "year": 2078
         },
         {
          "population": 22.695717000000002,
          "type": "no change",
          "year": 2079
         },
         {
          "population": 22.425502,
          "type": "no change",
          "year": 2080
         },
         {
          "population": 22.160755,
          "type": "no change",
          "year": 2081
         },
         {
          "population": 21.901105,
          "type": "no change",
          "year": 2082
         },
         {
          "population": 21.645736,
          "type": "no change",
          "year": 2083
         },
         {
          "population": 21.393732999999997,
          "type": "no change",
          "year": 2084
         },
         {
          "population": 21.144327999999998,
          "type": "no change",
          "year": 2085
         },
         {
          "population": 20.897133999999998,
          "type": "no change",
          "year": 2086
         },
         {
          "population": 20.651942,
          "type": "no change",
          "year": 2087
         },
         {
          "population": 20.408392,
          "type": "no change",
          "year": 2088
         },
         {
          "population": 20.166165,
          "type": "no change",
          "year": 2089
         },
         {
          "population": 19.925064,
          "type": "no change",
          "year": 2090
         },
         {
          "population": 19.685001,
          "type": "no change",
          "year": 2091
         },
         {
          "population": 19.445985,
          "type": "no change",
          "year": 2092
         },
         {
          "population": 19.208136000000003,
          "type": "no change",
          "year": 2093
         },
         {
          "population": 18.971657,
          "type": "no change",
          "year": 2094
         },
         {
          "population": 18.736814,
          "type": "no change",
          "year": 2095
         },
         {
          "population": 18.503919999999997,
          "type": "no change",
          "year": 2096
         },
         {
          "population": 18.273377,
          "type": "no change",
          "year": 2097
         },
         {
          "population": 18.045582999999997,
          "type": "no change",
          "year": 2098
         },
         {
          "population": 17.821078,
          "type": "no change",
          "year": 2099
         },
         {
          "population": 17.60038,
          "type": "no change",
          "year": 2100
         }
        ],
        "data-9b0e8a4eef8c8c4e88420d448239e40d": [
         {
          "position": 53,
          "text": "estimate",
          "top_color": "blue",
          "year": 1985
         },
         {
          "position": 53,
          "text": "projection",
          "top_color": "red",
          "year": 2060
         }
        ]
       },
       "layer": [
        {
         "data": {
          "name": "data-9b0e8a4eef8c8c4e88420d448239e40d"
         },
         "encoding": {
          "color": {
           "field": "top_color",
           "legend": null,
           "scale": {
            "domain": [
             "normal",
             "blue",
             "red"
            ],
            "range": [
             "#5D646F",
             "#3389BD",
             "#D8505F"
            ]
           },
           "type": "nominal"
          },
          "text": {
           "field": "text",
           "type": "nominal"
          },
          "x": {
           "axis": {
            "gridColor": "#CCD2D4",
            "gridDash": [
             2,
             2
            ],
            "gridOpacity": 0.8,
            "tickColor": "#5D646F",
            "title": null,
            "values": [
             1950,
             1991,
             2020,
             2100
            ]
           },
           "field": "year",
           "scale": {
            "domain": [
             1950,
             2100
            ]
           },
           "type": "quantitative"
          },
          "y": {
           "axis": null,
           "field": "position",
           "scale": {
            "domain": [
             15,
             55
            ]
           },
           "title": null,
           "type": "quantitative"
          }
         },
         "height": 650,
         "mark": {
          "size": 16,
          "type": "text"
         },
         "width": 1000
        },
        {
         "data": {
          "name": "data-14351e6737e7fcbd5a1815435c4fe4a2"
         },
         "encoding": {
          "x": {
           "axis": {
            "gridColor": "#CCD2D4",
            "gridDash": [
             2,
             2
            ],
            "gridOpacity": 0.8,
            "tickColor": "#5D646F",
            "title": null,
            "values": [
             1950,
             1991,
             2020,
             2100
            ]
           },
           "field": "year",
           "scale": {
            "domain": [
             1950,
             2100
            ]
           },
           "type": "quantitative"
          },
          "y": {
           "axis": {
            "gridColor": "#CCD2D4",
            "gridDash": [
             2,
             2
            ],
            "gridOpacity": 0.8,
            "tickColor": "#5D646F",
            "tickMinStep": 5,
            "title": null
           },
           "field": "population",
           "scale": {
            "domain": [
             15,
             55
            ]
           },
           "type": "quantitative"
          }
         },
         "height": 650,
         "mark": {
          "color": "#3389BD",
          "type": "line"
         },
         "transform": [
          {
           "filter": {
            "equal": "estimate",
            "field": "type"
           }
          }
         ],
         "width": 1000
        },
        {
         "data": {
          "name": "data-14351e6737e7fcbd5a1815435c4fe4a2"
         },
         "encoding": {
          "x": {
           "axis": {
            "gridColor": "#CCD2D4",
            "gridDash": [
             2,
             2
            ],
            "gridOpacity": 0.8,
            "tickColor": "#5D646F",
            "title": null,
            "values": [
             1950,
             1991,
             2020,
             2100
            ]
           },
           "field": "year",
           "scale": {
            "domain": [
             1950,
             2100
            ]
           },
           "type": "quantitative"
          },
          "y": {
           "axis": {
            "gridColor": "#CCD2D4",
            "gridDash": [
             2,
             2
            ],
            "gridOpacity": 0.8,
            "tickColor": "#5D646F",
            "tickMinStep": 5,
            "title": null
           },
           "field": "population",
           "scale": {
            "domain": [
             15,
             55
            ]
           },
           "type": "quantitative"
          }
         },
         "height": 650,
         "mark": {
          "color": "#D8505F",
          "strokeDash": [
           6,
           2
          ],
          "type": "line"
         },
         "transform": [
          {
           "filter": {
            "equal": "medium variant",
            "field": "type"
           }
          }
         ],
         "width": 1000
        },
        {
         "data": {
          "name": "data-14351e6737e7fcbd5a1815435c4fe4a2"
         },
         "encoding": {
          "x": {
           "axis": {
            "gridColor": "#CCD2D4",
            "gridDash": [
             2,
             2
            ],
            "gridOpacity": 0.8,
            "tickColor": "#5D646F",
            "title": null,
            "values": [
             1950,
             1991,
             2020,
             2100
            ]
           },
           "field": "year",
           "scale": {
            "domain": [
             1950,
             2100
            ]
           },
           "type": "quantitative"
          },
          "y": {
           "axis": {
            "gridColor": "#CCD2D4",
            "gridDash": [
             2,
             2
            ],
            "gridOpacity": 0.8,
            "tickColor": "#5D646F",
            "tickMinStep": 5,
            "title": null
           },
           "field": "population",
           "scale": {
            "domain": [
             15,
             55
            ]
           },
           "type": "quantitative"
          }
         },
         "height": 650,
         "mark": {
          "color": "#D8505F",
          "strokeDash": [
           6,
           2
          ],
          "type": "line"
         },
         "transform": [
          {
           "filter": {
            "equal": "high variant",
            "field": "type"
           }
          }
         ],
         "width": 1000
        },
        {
         "data": {
          "name": "data-14351e6737e7fcbd5a1815435c4fe4a2"
         },
         "encoding": {
          "x": {
           "axis": {
            "gridColor": "#CCD2D4",
            "gridDash": [
             2,
             2
            ],
            "gridOpacity": 0.8,
            "tickColor": "#5D646F",
            "title": null,
            "values": [
             1950,
             1991,
             2020,
             2100
            ]
           },
           "field": "year",
           "scale": {
            "domain": [
             1950,
             2100
            ]
           },
           "type": "quantitative"
          },
          "y": {
           "axis": {
            "gridColor": "#CCD2D4",
            "gridDash": [
             2,
             2
            ],
            "gridOpacity": 0.8,
            "tickColor": "#5D646F",
            "tickMinStep": 5,
            "title": null
           },
           "field": "population",
           "scale": {
            "domain": [
             15,
             55
            ]
           },
           "type": "quantitative"
          }
         },
         "height": 650,
         "mark": {
          "color": "#D8505F",
          "strokeDash": [
           6,
           2
          ],
          "type": "line"
         },
         "transform": [
          {
           "filter": {
            "equal": "low variant",
            "field": "type"
           }
          }
         ],
         "width": 1000
        },
        {
         "data": {
          "name": "data-14351e6737e7fcbd5a1815435c4fe4a2"
         },
         "encoding": {
          "x": {
           "axis": {
            "gridColor": "#CCD2D4",
            "gridDash": [
             2,
             2
            ],
            "gridOpacity": 0.8,
            "tickColor": "#5D646F",
            "title": null,
            "values": [
             1950,
             1991,
             2020,
             2100
            ]
           },
           "field": "year",
           "scale": {
            "domain": [
             1950,
             2100
            ]
           },
           "type": "quantitative"
          },
          "y": {
           "axis": {
            "gridColor": "#CCD2D4",
            "gridDash": [
             2,
             2
            ],
            "gridOpacity": 0.8,
            "tickColor": "#5D646F",
            "tickMinStep": 5,
            "title": null
           },
           "field": "population",
           "scale": {
            "domain": [
             15,
             55
            ]
           },
           "type": "quantitative"
          }
         },
         "height": 650,
         "mark": {
          "color": "#D8505F",
          "strokeDash": [
           6,
           2
          ],
          "type": "line"
         },
         "transform": [
          {
           "filter": {
            "equal": "constant fertility",
            "field": "type"
           }
          }
         ],
         "width": 1000
        },
        {
         "data": {
          "name": "data-14351e6737e7fcbd5a1815435c4fe4a2"
         },
         "encoding": {
          "x": {
           "axis": {
            "gridColor": "#CCD2D4",
            "gridDash": [
             2,
             2
            ],
            "gridOpacity": 0.8,
            "tickColor": "#5D646F",
            "title": null,
            "values": [
             1950,
             1991,
             2020,
             2100
            ]
           },
           "field": "year",
           "scale": {
            "domain": [
             1950,
             2100
            ]
           },
           "type": "quantitative"
          },
          "y": {
           "axis": {
            "gridColor": "#CCD2D4",
            "gridDash": [
             2,
             2
            ],
            "gridOpacity": 0.8,
            "tickColor": "#5D646F",
            "tickMinStep": 5,
            "title": null
           },
           "field": "population",
           "scale": {
            "domain": [
             15,
             55
            ]
           },
           "type": "quantitative"
          }
         },
         "height": 650,
         "mark": {
          "color": "#D8505F",
          "strokeDash": [
           6,
           2
          ],
          "type": "line"
         },
         "transform": [
          {
           "filter": {
            "equal": "instant replacement",
            "field": "type"
           }
          }
         ],
         "width": 1000
        },
        {
         "data": {
          "name": "data-14351e6737e7fcbd5a1815435c4fe4a2"
         },
         "encoding": {
          "x": {
           "axis": {
            "gridColor": "#CCD2D4",
            "gridDash": [
             2,
             2
            ],
            "gridOpacity": 0.8,
            "tickColor": "#5D646F",
            "title": null,
            "values": [
             1950,
             1991,
             2020,
             2100
            ]
           },
           "field": "year",
           "scale": {
            "domain": [
             1950,
             2100
            ]
           },
           "type": "quantitative"
          },
          "y": {
           "axis": {
            "gridColor": "#CCD2D4",
            "gridDash": [
             2,
             2
            ],
            "gridOpacity": 0.8,
            "tickColor": "#5D646F",
            "tickMinStep": 5,
            "title": null
           },
           "field": "population",
           "scale": {
            "domain": [
             15,
             55
            ]
           },
           "type": "quantitative"
          }
         },
         "height": 650,
         "mark": {
          "color": "#D8505F",
          "strokeDash": [
           6,
           2
          ],
          "type": "line"
         },
         "transform": [
          {
           "filter": {
            "equal": "momentum",
            "field": "type"
           }
          }
         ],
         "width": 1000
        },
        {
         "data": {
          "name": "data-14351e6737e7fcbd5a1815435c4fe4a2"
         },
         "encoding": {
          "x": {
           "axis": {
            "gridColor": "#CCD2D4",
            "gridDash": [
             2,
             2
            ],
            "gridOpacity": 0.8,
            "tickColor": "#5D646F",
            "title": null,
            "values": [
             1950,
             1991,
             2020,
             2100
            ]
           },
           "field": "year",
           "scale": {
            "domain": [
             1950,
             2100
            ]
           },
           "type": "quantitative"
          },
          "y": {
           "axis": {
            "gridColor": "#CCD2D4",
            "gridDash": [
             2,
             2
            ],
            "gridOpacity": 0.8,
            "tickColor": "#5D646F",
            "tickMinStep": 5,
            "title": null
           },
           "field": "population",
           "scale": {
            "domain": [
             15,
             55
            ]
           },
           "type": "quantitative"
          }
         },
         "height": 650,
         "mark": {
          "color": "#D8505F",
          "strokeDash": [
           6,
           2
          ],
          "type": "line"
         },
         "transform": [
          {
           "filter": {
            "equal": "zero migration",
            "field": "type"
           }
          }
         ],
         "width": 1000
        },
        {
         "data": {
          "name": "data-14351e6737e7fcbd5a1815435c4fe4a2"
         },
         "encoding": {
          "x": {
           "axis": {
            "gridColor": "#CCD2D4",
            "gridDash": [
             2,
             2
            ],
            "gridOpacity": 0.8,
            "tickColor": "#5D646F",
            "title": null,
            "values": [
             1950,
             1991,
             2020,
             2100
            ]
           },
           "field": "year",
           "scale": {
            "domain": [
             1950,
             2100
            ]
           },
           "type": "quantitative"
          },
          "y": {
           "axis": {
            "gridColor": "#CCD2D4",
            "gridDash": [
             2,
             2
            ],
            "gridOpacity": 0.8,
            "tickColor": "#5D646F",
            "tickMinStep": 5,
            "title": null
           },
           "field": "population",
           "scale": {
            "domain": [
             15,
             55
            ]
           },
           "type": "quantitative"
          }
         },
         "height": 650,
         "mark": {
          "color": "#D8505F",
          "strokeDash": [
           6,
           2
          ],
          "type": "line"
         },
         "transform": [
          {
           "filter": {
            "equal": "constant mortality",
            "field": "type"
           }
          }
         ],
         "width": 1000
        },
        {
         "data": {
          "name": "data-14351e6737e7fcbd5a1815435c4fe4a2"
         },
         "encoding": {
          "x": {
           "axis": {
            "gridColor": "#CCD2D4",
            "gridDash": [
             2,
             2
            ],
            "gridOpacity": 0.8,
            "tickColor": "#5D646F",
            "title": null,
            "values": [
             1950,
             1991,
             2020,
             2100
            ]
           },
           "field": "year",
           "scale": {
            "domain": [
             1950,
             2100
            ]
           },
           "type": "quantitative"
          },
          "y": {
           "axis": {
            "gridColor": "#CCD2D4",
            "gridDash": [
             2,
             2
            ],
            "gridOpacity": 0.8,
            "tickColor": "#5D646F",
            "tickMinStep": 5,
            "title": null
           },
           "field": "population",
           "scale": {
            "domain": [
             15,
             55
            ]
           },
           "type": "quantitative"
          }
         },
         "height": 650,
         "mark": {
          "color": "#D8505F",
          "strokeDash": [
           6,
           2
          ],
          "type": "line"
         },
         "transform": [
          {
           "filter": {
            "equal": "no change",
            "field": "type"
           }
          }
         ],
         "width": 1000
        }
       ]
      },
      "image/png": "[encoded data removed]",
      "text/plain": [
       "<VegaLite 3 object>\n",
       "\n",
       "If you see this message, it means the renderer has not been properly enabled\n",
       "for the frontend that you are using. For more information, see\n",
       "https://altair-viz.github.io/user_guide/troubleshooting.html\n"
      ]
     },
     "execution_count": 664,
     "metadata": {},
     "output_type": "execute_result"
    }
   ],
   "source": [
    "layer = alt.layer(\n",
    "    top_text,\n",
    "    *lines\n",
    ")\n",
    "layer"
   ]
  },
  {
   "cell_type": "markdown",
   "metadata": {},
   "source": [
    "## make right sidebar"
   ]
  },
  {
   "cell_type": "code",
   "execution_count": 644,
   "metadata": {},
   "outputs": [],
   "source": [
    "positions = []\n",
    "for line_name in line_names:\n",
    "    position = pop.iloc[pop[pop['type']==line_name]['year'].idxmax()]['population']\n",
    "    positions.append(position)\n",
    "label_texts = [\n",
    "    'medium variant',\n",
    "    'high variant',\n",
    "    'low variant',\n",
    "    'constant fertility',\n",
    "    'instant replacement',\n",
    "    'momentum',\n",
    "    'zero migration',\n",
    "    'constant mortality',\n",
    "    'no change'\n",
    "]\n",
    "colors = ['red', 'red', 'red', 'normal', 'normal', 'normal', 'normal', 'normal', 'normal']\n",
    "positions[0] += .3\n",
    "positions[6] -= .3\n",
    "labels = {\n",
    "    'position': positions,\n",
    "    'text': label_texts,\n",
    "    'color': colors\n",
    "}\n",
    "labels = pd.DataFrame(labels)\n",
    "labels['x'] = 0.1"
   ]
  },
  {
   "cell_type": "code",
   "execution_count": 645,
   "metadata": {},
   "outputs": [
    {
     "data": {
      "application/vnd.vegalite.v3+json": {
       "$schema": "https://vega.github.io/schema/vega-lite/v3.4.0.json",
       "config": {
        "mark": {
         "tooltip": null
        },
        "view": {
         "height": 300,
         "width": 400
        }
       },
       "data": {
        "name": "data-938928f730b7f3bfa1ed62a2a51c34c0"
       },
       "datasets": {
        "data-938928f730b7f3bfa1ed62a2a51c34c0": [
         {
          "color": "red",
          "position": 24.713452,
          "text": "medium variant",
          "x": 0.1
         },
         {
          "color": "red",
          "position": 37.484422,
          "text": "high variant",
          "x": 0.1
         },
         {
          "color": "red",
          "position": 14.897041000000002,
          "text": "low variant",
          "x": 0.1
         },
         {
          "color": "normal",
          "position": 21.355851,
          "text": "constant fertility",
          "x": 0.1
         },
         {
          "color": "normal",
          "position": 38.758607000000005,
          "text": "instant replacement",
          "x": 0.1
         },
         {
          "color": "normal",
          "position": 34.299293,
          "text": "momentum",
          "x": 0.1
         },
         {
          "color": "normal",
          "position": 24.066739,
          "text": "zero migration",
          "x": 0.1
         },
         {
          "color": "normal",
          "position": 20.513055,
          "text": "constant mortality",
          "x": 0.1
         },
         {
          "color": "normal",
          "position": 17.60038,
          "text": "no change",
          "x": 0.1
         }
        ]
       },
       "encoding": {
        "color": {
         "field": "color",
         "legend": null,
         "scale": {
          "domain": [
           "normal",
           "red"
          ],
          "range": [
           "#5D646F",
           "#D8505F"
          ]
         },
         "type": "nominal"
        },
        "text": {
         "field": "text",
         "type": "nominal"
        },
        "x": {
         "axis": null,
         "field": "x",
         "scale": {
          "domain": [
           0,
           1
          ]
         },
         "title": null,
         "type": "quantitative"
        },
        "y": {
         "axis": null,
         "field": "position",
         "scale": {
          "domain": [
           15,
           55
          ]
         },
         "title": null,
         "type": "quantitative"
        }
       },
       "height": 650,
       "mark": {
        "align": "left",
        "size": 14,
        "type": "text"
       },
       "width": 200
      },
      "image/png": "[encoded data removed]",
      "text/plain": [
       "<VegaLite 3 object>\n",
       "\n",
       "If you see this message, it means the renderer has not been properly enabled\n",
       "for the frontend that you are using. For more information, see\n",
       "https://altair-viz.github.io/user_guide/troubleshooting.html\n"
      ]
     },
     "execution_count": 645,
     "metadata": {},
     "output_type": "execute_result"
    }
   ],
   "source": [
    "label_chart = alt.Chart(labels, width=200, height=650).mark_text(size=14, align='left').encode(\n",
    "    x=alt.X('x:Q', title=None, axis=None, scale=alt.Scale(domain=[0, 1])),\n",
    "    y=alt.Y('position:Q', title=None, axis=None,  scale=alt.Scale(domain=[15, 55])),\n",
    "    text=alt.Text('text:N'),\n",
    "    color=alt.Color('color:N', scale=alt.Scale(domain=['normal', 'red'], range=[BLACK_COLOR, '#D8505F']), legend=None),\n",
    ")\n",
    "label_chart"
   ]
  },
  {
   "cell_type": "markdown",
   "metadata": {},
   "source": [
    "## concat all together"
   ]
  },
  {
   "cell_type": "code",
   "execution_count": 667,
   "metadata": {},
   "outputs": [
    {
     "data": {
      "application/vnd.vegalite.v3+json": {
       "$schema": "https://vega.github.io/schema/vega-lite/v3.4.0.json",
       "config": {
        "concat": {
         "spacing": 0
        },
        "mark": {
         "tooltip": null
        },
        "view": {
         "height": 300,
         "stroke": null,
         "width": 400
        }
       },
       "datasets": {
        "data-14351e6737e7fcbd5a1815435c4fe4a2": [
         {
          "population": 37.29764,
          "type": "estimate",
          "year": 1950
         },
         {
          "population": 37.81554,
          "type": "estimate",
          "year": 1951
         },
         {
          "population": 38.360078,
          "type": "estimate",
          "year": 1952
         },
         {
          "population": 38.915814,
          "type": "estimate",
          "year": 1953
         },
         {
          "population": 39.471402999999995,
          "type": "estimate",
          "year": 1954
         },
         {
          "population": 40.019483,
          "type": "estimate",
          "year": 1955
         },
         {
          "population": 40.557034,
          "type": "estimate",
          "year": 1956
         },
         {
          "population": 41.085019,
          "type": "estimate",
          "year": 1957
         },
         {
          "population": 41.607893,
          "type": "estimate",
          "year": 1958
         },
         {
          "population": 42.13244,
          "type": "estimate",
          "year": 1959
         },
         {
          "population": 42.66464599999999,
          "type": "estimate",
          "year": 1960
         },
         {
          "population": 43.20635299999999,
          "type": "estimate",
          "year": 1961
         },
         {
          "population": 43.752227,
          "type": "estimate",
          "year": 1962
         },
         {
          "population": 44.288607000000006,
          "type": "estimate",
          "year": 1963
         },
         {
          "population": 44.796959,
          "type": "estimate",
          "year": 1964
         },
         {
          "population": 45.264552,
          "type": "estimate",
          "year": 1965
         },
         {
          "population": 45.684983,
          "type": "estimate",
          "year": 1966
         },
         {
          "population": 46.063219000000004,
          "type": "estimate",
          "year": 1967
         },
         {
          "population": 46.411816,
          "type": "estimate",
          "year": 1968
         },
         {
          "population": 46.749289000000005,
          "type": "estimate",
          "year": 1969
         },
         {
          "population": 47.088862,
          "type": "estimate",
          "year": 1970
         },
         {
          "population": 47.435008,
          "type": "estimate",
          "year": 1971
         },
         {
          "population": 47.78300599999999,
          "type": "estimate",
          "year": 1972
         },
         {
          "population": 48.125829,
          "type": "estimate",
          "year": 1973
         },
         {
          "population": 48.452623,
          "type": "estimate",
          "year": 1974
         },
         {
          "population": 48.755662,
          "type": "estimate",
          "year": 1975
         },
         {
          "population": 49.032729,
          "type": "estimate",
          "year": 1976
         },
         {
          "population": 49.28711799999999,
          "type": "estimate",
          "year": 1977
         },
         {
          "population": 49.523304,
          "type": "estimate",
          "year": 1978
         },
         {
          "population": 49.747998,
          "type": "estimate",
          "year": 1979
         },
         {
          "population": 49.965872000000005,
          "type": "estimate",
          "year": 1980
         },
         {
          "population": 50.176399,
          "type": "estimate",
          "year": 1981
         },
         {
          "population": 50.377069000000006,
          "type": "estimate",
          "year": 1982
         },
         {
          "population": 50.568025,
          "type": "estimate",
          "year": 1983
         },
         {
          "population": 50.749176,
          "type": "estimate",
          "year": 1984
         },
         {
          "population": 50.919275,
          "type": "estimate",
          "year": 1985
         },
         {
          "population": 51.077457,
          "type": "estimate",
          "year": 1986
         },
         {
          "population": 51.219910999999996,
          "type": "estimate",
          "year": 1987
         },
         {
          "population": 51.338392,
          "type": "estimate",
          "year": 1988
         },
         {
          "population": 51.422337999999996,
          "type": "estimate",
          "year": 1989
         },
         {
          "population": 51.463100999999995,
          "type": "estimate",
          "year": 1990
         },
         {
          "population": 51.461273,
          "type": "estimate",
          "year": 1991
         },
         {
          "population": 51.415957,
          "type": "estimate",
          "year": 1992
         },
         {
          "population": 51.316013,
          "type": "estimate",
          "year": 1993
         },
         {
          "population": 51.14777099999999,
          "type": "estimate",
          "year": 1994
         },
         {
          "population": 50.903783,
          "type": "estimate",
          "year": 1995
         },
         {
          "population": 50.580467000000006,
          "type": "estimate",
          "year": 1996
         },
         {
          "population": 50.18728,
          "type": "estimate",
          "year": 1997
         },
         {
          "population": 49.746523,
          "type": "estimate",
          "year": 1998
         },
         {
          "population": 49.288739,
          "type": "estimate",
          "year": 1999
         },
         {
          "population": 48.838058,
          "type": "estimate",
          "year": 2000
         },
         {
          "population": 48.401648,
          "type": "estimate",
          "year": 2001
         },
         {
          "population": 47.980033,
          "type": "estimate",
          "year": 2002
         },
         {
          "population": 47.582463,
          "type": "estimate",
          "year": 2003
         },
         {
          "population": 47.217489,
          "type": "estimate",
          "year": 2004
         },
         {
          "population": 46.890775000000005,
          "type": "estimate",
          "year": 2005
         },
         {
          "population": 46.607397000000006,
          "type": "estimate",
          "year": 2006
         },
         {
          "population": 46.366347000000005,
          "type": "estimate",
          "year": 2007
         },
         {
          "population": 46.158709,
          "type": "estimate",
          "year": 2008
         },
         {
          "population": 45.970942,
          "type": "estimate",
          "year": 2009
         },
         {
          "population": 45.792086,
          "type": "estimate",
          "year": 2010
         },
         {
          "population": 45.61985,
          "type": "estimate",
          "year": 2011
         },
         {
          "population": 45.453805,
          "type": "estimate",
          "year": 2012
         },
         {
          "population": 45.286988,
          "type": "estimate",
          "year": 2013
         },
         {
          "population": 45.11153,
          "type": "estimate",
          "year": 2014
         },
         {
          "population": 44.921636,
          "type": "estimate",
          "year": 2015
         },
         {
          "population": 44.713708,
          "type": "estimate",
          "year": 2016
         },
         {
          "population": 44.487708,
          "type": "estimate",
          "year": 2017
         },
         {
          "population": 44.246157999999994,
          "type": "estimate",
          "year": 2018
         },
         {
          "population": 43.993643,
          "type": "estimate",
          "year": 2019
         },
         {
          "population": 43.733759000000006,
          "type": "estimate",
          "year": 2020
         },
         {
          "population": 43.733759000000006,
          "type": "medium variant",
          "year": 2020
         },
         {
          "population": 43.466822,
          "type": "medium variant",
          "year": 2021
         },
         {
          "population": 43.19212,
          "type": "medium variant",
          "year": 2022
         },
         {
          "population": 42.911305999999996,
          "type": "medium variant",
          "year": 2023
         },
         {
          "population": 42.626269,
          "type": "medium variant",
          "year": 2024
         },
         {
          "population": 42.338589000000006,
          "type": "medium variant",
          "year": 2025
         },
         {
          "population": 42.049215999999994,
          "type": "medium variant",
          "year": 2026
         },
         {
          "population": 41.758643,
          "type": "medium variant",
          "year": 2027
         },
         {
          "population": 41.467225,
          "type": "medium variant",
          "year": 2028
         },
         {
          "population": 41.175058,
          "type": "medium variant",
          "year": 2029
         },
         {
          "population": 40.882332999999996,
          "type": "medium variant",
          "year": 2030
         },
         {
          "population": 40.589437000000004,
          "type": "medium variant",
          "year": 2031
         },
         {
          "population": 40.296879999999994,
          "type": "medium variant",
          "year": 2032
         },
         {
          "population": 40.005067000000004,
          "type": "medium variant",
          "year": 2033
         },
         {
          "population": 39.714398,
          "type": "medium variant",
          "year": 2034
         },
         {
          "population": 39.425165,
          "type": "medium variant",
          "year": 2035
         },
         {
          "population": 39.137598,
          "type": "medium variant",
          "year": 2036
         },
         {
          "population": 38.851724000000004,
          "type": "medium variant",
          "year": 2037
         },
         {
          "population": 38.567427,
          "type": "medium variant",
          "year": 2038
         },
         {
          "population": 38.284416,
          "type": "medium variant",
          "year": 2039
         },
         {
          "population": 38.002489999999995,
          "type": "medium variant",
          "year": 2040
         },
         {
          "population": 37.721611,
          "type": "medium variant",
          "year": 2041
         },
         {
          "population": 37.44174700000001,
          "type": "medium variant",
          "year": 2042
         },
         {
          "population": 37.162735,
          "type": "medium variant",
          "year": 2043
         },
         {
          "population": 36.884349,
          "type": "medium variant",
          "year": 2044
         },
         {
          "population": 36.606383,
          "type": "medium variant",
          "year": 2045
         },
         {
          "population": 36.328739999999996,
          "type": "medium variant",
          "year": 2046
         },
         {
          "population": 36.051336000000006,
          "type": "medium variant",
          "year": 2047
         },
         {
          "population": 35.774011,
          "type": "medium variant",
          "year": 2048
         },
         {
          "population": 35.496632000000005,
          "type": "medium variant",
          "year": 2049
         },
         {
          "population": 35.219046,
          "type": "medium variant",
          "year": 2050
         },
         {
          "population": 34.94124,
          "type": "medium variant",
          "year": 2051
         },
         {
          "population": 34.663197,
          "type": "medium variant",
          "year": 2052
         },
         {
          "population": 34.384751,
          "type": "medium variant",
          "year": 2053
         },
         {
          "population": 34.105732,
          "type": "medium variant",
          "year": 2054
         },
         {
          "population": 33.826061,
          "type": "medium variant",
          "year": 2055
         },
         {
          "population": 33.545778,
          "type": "medium variant",
          "year": 2056
         },
         {
          "population": 33.265074,
          "type": "medium variant",
          "year": 2057
         },
         {
          "population": 32.984190999999996,
          "type": "medium variant",
          "year": 2058
         },
         {
          "population": 32.703478,
          "type": "medium variant",
          "year": 2059
         },
         {
          "population": 32.423255,
          "type": "medium variant",
          "year": 2060
         },
         {
          "population": 32.143782,
          "type": "medium variant",
          "year": 2061
         },
         {
          "population": 31.865329,
          "type": "medium variant",
          "year": 2062
         },
         {
          "population": 31.588343999999996,
          "type": "medium variant",
          "year": 2063
         },
         {
          "population": 31.313304,
          "type": "medium variant",
          "year": 2064
         },
         {
          "population": 31.040686,
          "type": "medium variant",
          "year": 2065
         },
         {
          "population": 30.770827999999998,
          "type": "medium variant",
          "year": 2066
         },
         {
          "population": 30.504096,
          "type": "medium variant",
          "year": 2067
         },
         {
          "population": 30.240979,
          "type": "medium variant",
          "year": 2068
         },
         {
          "population": 29.982052000000003,
          "type": "medium variant",
          "year": 2069
         },
         {
          "population": 29.727777000000003,
          "type": "medium variant",
          "year": 2070
         },
         {
          "population": 29.478455,
          "type": "medium variant",
          "year": 2071
         },
         {
          "population": 29.23437,
          "type": "medium variant",
          "year": 2072
         },
         {
          "population": 28.995894,
          "type": "medium variant",
          "year": 2073
         },
         {
          "population": 28.763392000000003,
          "type": "medium variant",
          "year": 2074
         },
         {
          "population": 28.537156000000003,
          "type": "medium variant",
          "year": 2075
         },
         {
          "population": 28.317332,
          "type": "medium variant",
          "year": 2076
         },
         {
          "population": 28.103952999999997,
          "type": "medium variant",
          "year": 2077
         },
         {
          "population": 27.897082,
          "type": "medium variant",
          "year": 2078
         },
         {
          "population": 27.696728,
          "type": "medium variant",
          "year": 2079
         },
         {
          "population": 27.502824,
          "type": "medium variant",
          "year": 2080
         },
         {
          "population": 27.315267999999996,
          "type": "medium variant",
          "year": 2081
         },
         {
          "population": 27.133861,
          "type": "medium variant",
          "year": 2082
         },
         {
          "population": 26.958197,
          "type": "medium variant",
          "year": 2083
         },
         {
          "population": 26.787772,
          "type": "medium variant",
          "year": 2084
         },
         {
          "population": 26.622097999999998,
          "type": "medium variant",
          "year": 2085
         },
         {
          "population": 26.460883,
          "type": "medium variant",
          "year": 2086
         },
         {
          "population": 26.303784,
          "type": "medium variant",
          "year": 2087
         },
         {
          "population": 26.150178,
          "type": "medium variant",
          "year": 2088
         },
         {
          "population": 25.999366000000002,
          "type": "medium variant",
          "year": 2089
         },
         {
          "population": 25.850732999999998,
          "type": "medium variant",
          "year": 2090
         },
         {
          "population": 25.703826,
          "type": "medium variant",
          "year": 2091
         },
         {
          "population": 25.558328999999997,
          "type": "medium variant",
          "year": 2092
         },
         {
          "population": 25.413992,
          "type": "medium variant",
          "year": 2093
         },
         {
          "population": 25.270622000000003,
          "type": "medium variant",
          "year": 2094
         },
         {
          "population": 25.127984,
          "type": "medium variant",
          "year": 2095
         },
         {
          "population": 24.985775,
          "type": "medium variant",
          "year": 2096
         },
         {
          "population": 24.843662000000002,
          "type": "medium variant",
          "year": 2097
         },
         {
          "population": 24.701220000000003,
          "type": "medium variant",
          "year": 2098
         },
         {
          "population": 24.557993999999997,
          "type": "medium variant",
          "year": 2099
         },
         {
          "population": 24.413452,
          "type": "medium variant",
          "year": 2100
         },
         {
          "population": 43.733759000000006,
          "type": "high variant",
          "year": 2020
         },
         {
          "population": 43.510982000000006,
          "type": "high variant",
          "year": 2021
         },
         {
          "population": 43.29286,
          "type": "high variant",
          "year": 2022
         },
         {
          "population": 43.078590999999996,
          "type": "high variant",
          "year": 2023
         },
         {
          "population": 42.86759,
          "type": "high variant",
          "year": 2024
         },
         {
          "population": 42.65951999999999,
          "type": "high variant",
          "year": 2025
         },
         {
          "population": 42.454279,
          "type": "high variant",
          "year": 2026
         },
         {
          "population": 42.25203400000001,
          "type": "high variant",
          "year": 2027
         },
         {
          "population": 42.053129999999996,
          "type": "high variant",
          "year": 2028
         },
         {
          "population": 41.858049,
          "type": "high variant",
          "year": 2029
         },
         {
          "population": 41.667187999999996,
          "type": "high variant",
          "year": 2030
         },
         {
          "population": 41.480667000000004,
          "type": "high variant",
          "year": 2031
         },
         {
          "population": 41.298117999999995,
          "type": "high variant",
          "year": 2032
         },
         {
          "population": 41.118601000000005,
          "type": "high variant",
          "year": 2033
         },
         {
          "population": 40.940864999999995,
          "type": "high variant",
          "year": 2034
         },
         {
          "population": 40.763980000000004,
          "type": "high variant",
          "year": 2035
         },
         {
          "population": 40.587641000000005,
          "type": "high variant",
          "year": 2036
         },
         {
          "population": 40.412036,
          "type": "high variant",
          "year": 2037
         },
         {
          "population": 40.237542000000005,
          "type": "high variant",
          "year": 2038
         },
         {
          "population": 40.064686,
          "type": "high variant",
          "year": 2039
         },
         {
          "population": 39.893925,
          "type": "high variant",
          "year": 2040
         },
         {
          "population": 39.725356,
          "type": "high variant",
          "year": 2041
         },
         {
          "population": 39.558893,
          "type": "high variant",
          "year": 2042
         },
         {
          "population": 39.3947,
          "type": "high variant",
          "year": 2043
         },
         {
          "population": 39.232946000000005,
          "type": "high variant",
          "year": 2044
         },
         {
          "population": 39.073785,
          "type": "high variant",
          "year": 2045
         },
         {
          "population": 38.917317000000004,
          "type": "high variant",
          "year": 2046
         },
         {
          "population": 38.76366,
          "type": "high variant",
          "year": 2047
         },
         {
          "population": 38.612927000000006,
          "type": "high variant",
          "year": 2048
         },
         {
          "population": 38.465247000000005,
          "type": "high variant",
          "year": 2049
         },
         {
          "population": 38.320726,
          "type": "high variant",
          "year": 2050
         },
         {
          "population": 38.179494,
          "type": "high variant",
          "year": 2051
         },
         {
          "population": 38.041629,
          "type": "high variant",
          "year": 2052
         },
         {
          "population": 37.907094,
          "type": "high variant",
          "year": 2053
         },
         {
          "population": 37.775811000000004,
          "type": "high variant",
          "year": 2054
         },
         {
          "population": 37.647762,
          "type": "high variant",
          "year": 2055
         },
         {
          "population": 37.523022000000005,
          "type": "high variant",
          "year": 2056
         },
         {
          "population": 37.401732,
          "type": "high variant",
          "year": 2057
         },
         {
          "population": 37.284040999999995,
          "type": "high variant",
          "year": 2058
         },
         {
          "population": 37.170198,
          "type": "high variant",
          "year": 2059
         },
         {
          "population": 37.060356,
          "type": "high variant",
          "year": 2060
         },
         {
          "population": 36.954714,
          "type": "high variant",
          "year": 2061
         },
         {
          "population": 36.853398999999996,
          "type": "high variant",
          "year": 2062
         },
         {
          "population": 36.756507000000006,
          "type": "high variant",
          "year": 2063
         },
         {
          "population": 36.664105000000006,
          "type": "high variant",
          "year": 2064
         },
         {
          "population": 36.57631200000001,
          "type": "high variant",
          "year": 2065
         },
         {
          "population": 36.493326,
          "type": "high variant",
          "year": 2066
         },
         {
          "population": 36.415372000000005,
          "type": "high variant",
          "year": 2067
         },
         {
          "population": 36.34279,
          "type": "high variant",
          "year": 2068
         },
         {
          "population": 36.275917,
          "type": "high variant",
          "year": 2069
         },
         {
          "population": 36.215116,
          "type": "high variant",
          "year": 2070
         },
         {
          "population": 36.160568,
          "type": "high variant",
          "year": 2071
         },
         {
          "population": 36.112487,
          "type": "high variant",
          "year": 2072
         },
         {
          "population": 36.07132,
          "type": "high variant",
          "year": 2073
         },
         {
          "population": 36.03748,
          "type": "high variant",
          "year": 2074
         },
         {
          "population": 36.011351000000005,
          "type": "high variant",
          "year": 2075
         },
         {
          "population": 35.993059,
          "type": "high variant",
          "year": 2076
         },
         {
          "population": 35.98266,
          "type": "high variant",
          "year": 2077
         },
         {
          "population": 35.980359,
          "type": "high variant",
          "year": 2078
         },
         {
          "population": 35.986339,
          "type": "high variant",
          "year": 2079
         },
         {
          "population": 36.000687000000006,
          "type": "high variant",
          "year": 2080
         },
         {
          "population": 36.023347,
          "type": "high variant",
          "year": 2081
         },
         {
          "population": 36.054128,
          "type": "high variant",
          "year": 2082
         },
         {
          "population": 36.092706,
          "type": "high variant",
          "year": 2083
         },
         {
          "population": 36.138642999999995,
          "type": "high variant",
          "year": 2084
         },
         {
          "population": 36.191506000000004,
          "type": "high variant",
          "year": 2085
         },
         {
          "population": 36.251001,
          "type": "high variant",
          "year": 2086
         },
         {
          "population": 36.316761,
          "type": "high variant",
          "year": 2087
         },
         {
          "population": 36.388148,
          "type": "high variant",
          "year": 2088
         },
         {
          "population": 36.464468000000004,
          "type": "high variant",
          "year": 2089
         },
         {
          "population": 36.545037,
          "type": "high variant",
          "year": 2090
         },
         {
          "population": 36.629342,
          "type": "high variant",
          "year": 2091
         },
         {
          "population": 36.716933,
          "type": "high variant",
          "year": 2092
         },
         {
          "population": 36.807455999999995,
          "type": "high variant",
          "year": 2093
         },
         {
          "population": 36.900529,
          "type": "high variant",
          "year": 2094
         },
         {
          "population": 36.995732000000004,
          "type": "high variant",
          "year": 2095
         },
         {
          "population": 37.092588,
          "type": "high variant",
          "year": 2096
         },
         {
          "population": 37.190557999999996,
          "type": "high variant",
          "year": 2097
         },
         {
          "population": 37.288993999999995,
          "type": "high variant",
          "year": 2098
         },
         {
          "population": 37.387212999999996,
          "type": "high variant",
          "year": 2099
         },
         {
          "population": 37.484422,
          "type": "high variant",
          "year": 2100
         },
         {
          "population": 43.733759000000006,
          "type": "low variant",
          "year": 2020
         },
         {
          "population": 43.416407,
          "type": "low variant",
          "year": 2021
         },
         {
          "population": 43.08377099999999,
          "type": "low variant",
          "year": 2022
         },
         {
          "population": 42.738389000000005,
          "type": "low variant",
          "year": 2023
         },
         {
          "population": 42.382422,
          "type": "low variant",
          "year": 2024
         },
         {
          "population": 42.01766099999999,
          "type": "low variant",
          "year": 2025
         },
         {
          "population": 41.64544600000001,
          "type": "low variant",
          "year": 2026
         },
         {
          "population": 41.266779,
          "type": "low variant",
          "year": 2027
         },
         {
          "population": 40.882304,
          "type": "low variant",
          "year": 2028
         },
         {
          "population": 40.492407,
          "type": "low variant",
          "year": 2029
         },
         {
          "population": 40.097479,
          "type": "low variant",
          "year": 2030
         },
         {
          "population": 39.698166,
          "type": "low variant",
          "year": 2031
         },
         {
          "population": 39.295592000000006,
          "type": "low variant",
          "year": 2032
         },
         {
          "population": 38.8915,
          "type": "low variant",
          "year": 2033
         },
         {
          "population": 38.487917,
          "type": "low variant",
          "year": 2034
         },
         {
          "population": 38.086355000000005,
          "type": "low variant",
          "year": 2035
         },
         {
          "population": 37.687673,
          "type": "low variant",
          "year": 2036
         },
         {
          "population": 37.29181200000001,
          "type": "low variant",
          "year": 2037
         },
         {
          "population": 36.898283,
          "type": "low variant",
          "year": 2038
         },
         {
          "population": 36.506108,
          "type": "low variant",
          "year": 2039
         },
         {
          "population": 36.114527,
          "type": "low variant",
          "year": 2040
         },
         {
          "population": 35.723487,
          "type": "low variant",
          "year": 2041
         },
         {
          "population": 35.333164,
          "type": "low variant",
          "year": 2042
         },
         {
          "population": 34.943284,
          "type": "low variant",
          "year": 2043
         },
         {
          "population": 34.553496,
          "type": "low variant",
          "year": 2044
         },
         {
          "population": 34.16352200000001,
          "type": "low variant",
          "year": 2045
         },
         {
          "population": 33.773167,
          "type": "low variant",
          "year": 2046
         },
         {
          "population": 33.382263,
          "type": "low variant",
          "year": 2047
         },
         {
          "population": 32.99059200000001,
          "type": "low variant",
          "year": 2048
         },
         {
          "population": 32.59789,
          "type": "low variant",
          "year": 2049
         },
         {
          "population": 32.203978,
          "type": "low variant",
          "year": 2050
         },
         {
          "population": 31.808765,
          "type": "low variant",
          "year": 2051
         },
         {
          "population": 31.41218,
          "type": "low variant",
          "year": 2052
         },
         {
          "population": 31.013982999999996,
          "type": "low variant",
          "year": 2053
         },
         {
          "population": 30.613917,
          "type": "low variant",
          "year": 2054
         },
         {
          "population": 30.211843,
          "type": "low variant",
          "year": 2055
         },
         {
          "population": 29.807811,
          "type": "low variant",
          "year": 2056
         },
         {
          "population": 29.401982000000004,
          "type": "low variant",
          "year": 2057
         },
         {
          "population": 28.994602999999998,
          "type": "low variant",
          "year": 2058
         },
         {
          "population": 28.585959,
          "type": "low variant",
          "year": 2059
         },
         {
          "population": 28.176402000000003,
          "type": "low variant",
          "year": 2060
         },
         {
          "population": 27.766202,
          "type": "low variant",
          "year": 2061
         },
         {
          "population": 27.355716,
          "type": "low variant",
          "year": 2062
         },
         {
          "population": 26.945520000000002,
          "type": "low variant",
          "year": 2063
         },
         {
          "population": 26.536297,
          "type": "low variant",
          "year": 2064
         },
         {
          "population": 26.128687999999997,
          "type": "low variant",
          "year": 2065
         },
         {
          "population": 25.723141,
          "type": "low variant",
          "year": 2066
         },
         {
          "population": 25.320076,
          "type": "low variant",
          "year": 2067
         },
         {
          "population": 24.920132000000002,
          "type": "low variant",
          "year": 2068
         },
         {
          "population": 24.524034,
          "type": "low variant",
          "year": 2069
         },
         {
          "population": 24.132394,
          "type": "low variant",
          "year": 2070
         },
         {
          "population": 23.745606,
          "type": "low variant",
          "year": 2071
         },
         {
          "population": 23.364022000000002,
          "type": "low variant",
          "year": 2072
         },
         {
          "population": 22.988125,
          "type": "low variant",
          "year": 2073
         },
         {
          "population": 22.618387000000002,
          "type": "low variant",
          "year": 2074
         },
         {
          "population": 22.255183,
          "type": "low variant",
          "year": 2075
         },
         {
          "population": 21.898712000000003,
          "type": "low variant",
          "year": 2076
         },
         {
          "population": 21.54909,
          "type": "low variant",
          "year": 2077
         },
         {
          "population": 21.206401000000003,
          "type": "low variant",
          "year": 2078
         },
         {
          "population": 20.870681,
          "type": "low variant",
          "year": 2079
         },
         {
          "population": 20.541871,
          "type": "low variant",
          "year": 2080
         },
         {
          "population": 20.219939,
          "type": "low variant",
          "year": 2081
         },
         {
          "population": 19.904688999999998,
          "type": "low variant",
          "year": 2082
         },
         {
          "population": 19.59576,
          "type": "low variant",
          "year": 2083
         },
         {
          "population": 19.292657,
          "type": "low variant",
          "year": 2084
         },
         {
          "population": 18.994908,
          "type": "low variant",
          "year": 2085
         },
         {
          "population": 18.702258,
          "type": "low variant",
          "year": 2086
         },
         {
          "population": 18.414391,
          "type": "low variant",
          "year": 2087
         },
         {
          "population": 18.130688999999997,
          "type": "low variant",
          "year": 2088
         },
         {
          "population": 17.850409,
          "type": "low variant",
          "year": 2089
         },
         {
          "population": 17.572918,
          "type": "low variant",
          "year": 2090
         },
         {
          "population": 17.297806,
          "type": "low variant",
          "year": 2091
         },
         {
          "population": 17.024823,
          "type": "low variant",
          "year": 2092
         },
         {
          "population": 16.753821,
          "type": "low variant",
          "year": 2093
         },
         {
          "population": 16.484707,
          "type": "low variant",
          "year": 2094
         },
         {
          "population": 16.217316999999998,
          "type": "low variant",
          "year": 2095
         },
         {
          "population": 15.951448999999998,
          "type": "low variant",
          "year": 2096
         },
         {
          "population": 15.686865,
          "type": "low variant",
          "year": 2097
         },
         {
          "population": 15.423223,
          "type": "low variant",
          "year": 2098
         },
         {
          "population": 15.160101000000001,
          "type": "low variant",
          "year": 2099
         },
         {
          "population": 14.897041000000002,
          "type": "low variant",
          "year": 2100
         },
         {
          "population": 43.733759000000006,
          "type": "constant fertility",
          "year": 2020
         },
         {
          "population": 43.468429,
          "type": "constant fertility",
          "year": 2021
         },
         {
          "population": 43.196458,
          "type": "constant fertility",
          "year": 2022
         },
         {
          "population": 42.918754,
          "type": "constant fertility",
          "year": 2023
         },
         {
          "population": 42.636085,
          "type": "constant fertility",
          "year": 2024
         },
         {
          "population": 42.349115999999995,
          "type": "constant fertility",
          "year": 2025
         },
         {
          "population": 42.0584,
          "type": "constant fertility",
          "year": 2026
         },
         {
          "population": 41.764377999999994,
          "type": "constant fertility",
          "year": 2027
         },
         {
          "population": 41.467392999999994,
          "type": "constant fertility",
          "year": 2028
         },
         {
          "population": 41.167703,
          "type": "constant fertility",
          "year": 2029
         },
         {
          "population": 40.865574,
          "type": "constant fertility",
          "year": 2030
         },
         {
          "population": 40.561282999999996,
          "type": "constant fertility",
          "year": 2031
         },
         {
          "population": 40.255305,
          "type": "constant fertility",
          "year": 2032
         },
         {
          "population": 39.948147000000006,
          "type": "constant fertility",
          "year": 2033
         },
         {
          "population": 39.640482000000006,
          "type": "constant fertility",
          "year": 2034
         },
         {
          "population": 39.332772000000006,
          "type": "constant fertility",
          "year": 2035
         },
         {
          "population": 39.025342,
          "type": "constant fertility",
          "year": 2036
         },
         {
          "population": 38.718235,
          "type": "constant fertility",
          "year": 2037
         },
         {
          "population": 38.41138899999999,
          "type": "constant fertility",
          "year": 2038
         },
         {
          "population": 38.104601,
          "type": "constant fertility",
          "year": 2039
         },
         {
          "population": 37.797717000000006,
          "type": "constant fertility",
          "year": 2040
         },
         {
          "population": 37.490764999999996,
          "type": "constant fertility",
          "year": 2041
         },
         {
          "population": 37.18379,
          "type": "constant fertility",
          "year": 2042
         },
         {
          "population": 36.876725,
          "type": "constant fertility",
          "year": 2043
         },
         {
          "population": 36.569455999999995,
          "type": "constant fertility",
          "year": 2044
         },
         {
          "population": 36.261877999999996,
          "type": "constant fertility",
          "year": 2045
         },
         {
          "population": 35.95394399999999,
          "type": "constant fertility",
          "year": 2046
         },
         {
          "population": 35.645598,
          "type": "constant fertility",
          "year": 2047
         },
         {
          "population": 35.336756,
          "type": "constant fertility",
          "year": 2048
         },
         {
          "population": 35.027324,
          "type": "constant fertility",
          "year": 2049
         },
         {
          "population": 34.7172,
          "type": "constant fertility",
          "year": 2050
         },
         {
          "population": 34.406415,
          "type": "constant fertility",
          "year": 2051
         },
         {
          "population": 34.094911,
          "type": "constant fertility",
          "year": 2052
         },
         {
          "population": 33.782498999999994,
          "type": "constant fertility",
          "year": 2053
         },
         {
          "population": 33.468985,
          "type": "constant fertility",
          "year": 2054
         },
         {
          "population": 33.154217,
          "type": "constant fertility",
          "year": 2055
         },
         {
          "population": 32.838237,
          "type": "constant fertility",
          "year": 2056
         },
         {
          "population": 32.521205,
          "type": "constant fertility",
          "year": 2057
         },
         {
          "population": 32.203249,
          "type": "constant fertility",
          "year": 2058
         },
         {
          "population": 31.884549,
          "type": "constant fertility",
          "year": 2059
         },
         {
          "population": 31.565348999999998,
          "type": "constant fertility",
          "year": 2060
         },
         {
          "population": 31.245839,
          "type": "constant fertility",
          "year": 2061
         },
         {
          "population": 30.926295,
          "type": "constant fertility",
          "year": 2062
         },
         {
          "population": 30.607118999999997,
          "type": "constant fertility",
          "year": 2063
         },
         {
          "population": 30.288784,
          "type": "constant fertility",
          "year": 2064
         },
         {
          "population": 29.97174,
          "type": "constant fertility",
          "year": 2065
         },
         {
          "population": 29.656325000000002,
          "type": "constant fertility",
          "year": 2066
         },
         {
          "population": 29.342907000000004,
          "type": "constant fertility",
          "year": 2067
         },
         {
          "population": 29.031993,
          "type": "constant fertility",
          "year": 2068
         },
         {
          "population": 28.724145,
          "type": "constant fertility",
          "year": 2069
         },
         {
          "population": 28.419882,
          "type": "constant fertility",
          "year": 2070
         },
         {
          "population": 28.119506,
          "type": "constant fertility",
          "year": 2071
         },
         {
          "population": 27.823342,
          "type": "constant fertility",
          "year": 2072
         },
         {
          "population": 27.531882999999997,
          "type": "constant fertility",
          "year": 2073
         },
         {
          "population": 27.245627,
          "type": "constant fertility",
          "year": 2074
         },
         {
          "population": 26.965025,
          "type": "constant fertility",
          "year": 2075
         },
         {
          "population": 26.690227000000004,
          "type": "constant fertility",
          "year": 2076
         },
         {
          "population": 26.421337000000005,
          "type": "constant fertility",
          "year": 2077
         },
         {
          "population": 26.158450000000002,
          "type": "constant fertility",
          "year": 2078
         },
         {
          "population": 25.901598999999997,
          "type": "constant fertility",
          "year": 2079
         },
         {
          "population": 25.650756,
          "type": "constant fertility",
          "year": 2080
         },
         {
          "population": 25.405846,
          "type": "constant fertility",
          "year": 2081
         },
         {
          "population": 25.166706,
          "type": "constant fertility",
          "year": 2082
         },
         {
          "population": 24.932996,
          "type": "constant fertility",
          "year": 2083
         },
         {
          "population": 24.704279,
          "type": "constant fertility",
          "year": 2084
         },
         {
          "population": 24.480107999999998,
          "type": "constant fertility",
          "year": 2085
         },
         {
          "population": 24.260240000000003,
          "type": "constant fertility",
          "year": 2086
         },
         {
          "population": 24.044304,
          "type": "constant fertility",
          "year": 2087
         },
         {
          "population": 23.831627,
          "type": "constant fertility",
          "year": 2088
         },
         {
          "population": 23.621423,
          "type": "constant fertility",
          "year": 2089
         },
         {
          "population": 23.413019,
          "type": "constant fertility",
          "year": 2090
         },
         {
          "population": 23.205912,
          "type": "constant fertility",
          "year": 2091
         },
         {
          "population": 22.999813,
          "type": "constant fertility",
          "year": 2092
         },
         {
          "population": 22.794476000000003,
          "type": "constant fertility",
          "year": 2093
         },
         {
          "population": 22.589756,
          "type": "constant fertility",
          "year": 2094
         },
         {
          "population": 22.38539,
          "type": "constant fertility",
          "year": 2095
         },
         {
          "population": 22.181096,
          "type": "constant fertility",
          "year": 2096
         },
         {
          "population": 21.976506,
          "type": "constant fertility",
          "year": 2097
         },
         {
          "population": 21.77113,
          "type": "constant fertility",
          "year": 2098
         },
         {
          "population": 21.56446,
          "type": "constant fertility",
          "year": 2099
         },
         {
          "population": 21.355851,
          "type": "constant fertility",
          "year": 2100
         },
         {
          "population": 43.733759000000006,
          "type": "instant replacement",
          "year": 2020
         },
         {
          "population": 43.58045,
          "type": "instant replacement",
          "year": 2021
         },
         {
          "population": 43.466269,
          "type": "instant replacement",
          "year": 2022
         },
         {
          "population": 43.375901,
          "type": "instant replacement",
          "year": 2023
         },
         {
          "population": 43.28668700000001,
          "type": "instant replacement",
          "year": 2024
         },
         {
          "population": 43.181991,
          "type": "instant replacement",
          "year": 2025
         },
         {
          "population": 43.057297,
          "type": "instant replacement",
          "year": 2026
         },
         {
          "population": 42.917167,
          "type": "instant replacement",
          "year": 2027
         },
         {
          "population": 42.764869000000004,
          "type": "instant replacement",
          "year": 2028
         },
         {
          "population": 42.606767999999995,
          "type": "instant replacement",
          "year": 2029
         },
         {
          "population": 42.447572,
          "type": "instant replacement",
          "year": 2030
         },
         {
          "population": 42.287439000000006,
          "type": "instant replacement",
          "year": 2031
         },
         {
          "population": 42.124597,
          "type": "instant replacement",
          "year": 2032
         },
         {
          "population": 41.95986799999999,
          "type": "instant replacement",
          "year": 2033
         },
         {
          "population": 41.794046,
          "type": "instant replacement",
          "year": 2034
         },
         {
          "population": 41.627887,
          "type": "instant replacement",
          "year": 2035
         },
         {
          "population": 41.462078999999996,
          "type": "instant replacement",
          "year": 2036
         },
         {
          "population": 41.29716200000001,
          "type": "instant replacement",
          "year": 2037
         },
         {
          "population": 41.133583,
          "type": "instant replacement",
          "year": 2038
         },
         {
          "population": 40.971712999999994,
          "type": "instant replacement",
          "year": 2039
         },
         {
          "population": 40.811949,
          "type": "instant replacement",
          "year": 2040
         },
         {
          "population": 40.654635,
          "type": "instant replacement",
          "year": 2041
         },
         {
          "population": 40.500271,
          "type": "instant replacement",
          "year": 2042
         },
         {
          "population": 40.349595,
          "type": "instant replacement",
          "year": 2043
         },
         {
          "population": 40.203441,
          "type": "instant replacement",
          "year": 2044
         },
         {
          "population": 40.062405,
          "type": "instant replacement",
          "year": 2045
         },
         {
          "population": 39.926786,
          "type": "instant replacement",
          "year": 2046
         },
         {
          "population": 39.79661,
          "type": "instant replacement",
          "year": 2047
         },
         {
          "population": 39.671873999999995,
          "type": "instant replacement",
          "year": 2048
         },
         {
          "population": 39.552459000000006,
          "type": "instant replacement",
          "year": 2049
         },
         {
          "population": 39.438227,
          "type": "instant replacement",
          "year": 2050
         },
         {
          "population": 39.329162000000004,
          "type": "instant replacement",
          "year": 2051
         },
         {
          "population": 39.225096,
          "type": "instant replacement",
          "year": 2052
         },
         {
          "population": 39.125449,
          "type": "instant replacement",
          "year": 2053
         },
         {
          "population": 39.029416,
          "type": "instant replacement",
          "year": 2054
         },
         {
          "population": 38.936347000000005,
          "type": "instant replacement",
          "year": 2055
         },
         {
          "population": 38.846023,
          "type": "instant replacement",
          "year": 2056
         },
         {
          "population": 38.758301,
          "type": "instant replacement",
          "year": 2057
         },
         {
          "population": 38.672805,
          "type": "instant replacement",
          "year": 2058
         },
         {
          "population": 38.589127,
          "type": "instant replacement",
          "year": 2059
         },
         {
          "population": 38.506964999999994,
          "type": "instant replacement",
          "year": 2060
         },
         {
          "population": 38.426276,
          "type": "instant replacement",
          "year": 2061
         },
         {
          "population": 38.34707,
          "type": "instant replacement",
          "year": 2062
         },
         {
          "population": 38.269266,
          "type": "instant replacement",
          "year": 2063
         },
         {
          "population": 38.192769999999996,
          "type": "instant replacement",
          "year": 2064
         },
         {
          "population": 38.117676,
          "type": "instant replacement",
          "year": 2065
         },
         {
          "population": 38.04410299999999,
          "type": "instant replacement",
          "year": 2066
         },
         {
          "population": 37.972449999999995,
          "type": "instant replacement",
          "year": 2067
         },
         {
          "population": 37.903439,
          "type": "instant replacement",
          "year": 2068
         },
         {
          "population": 37.838013999999994,
          "type": "instant replacement",
          "year": 2069
         },
         {
          "population": 37.777011,
          "type": "instant replacement",
          "year": 2070
         },
         {
          "population": 37.720777999999996,
          "type": "instant replacement",
          "year": 2071
         },
         {
          "population": 37.669711,
          "type": "instant replacement",
          "year": 2072
         },
         {
          "population": 37.624724,
          "type": "instant replacement",
          "year": 2073
         },
         {
          "population": 37.586872,
          "type": "instant replacement",
          "year": 2074
         },
         {
          "population": 37.55693,
          "type": "instant replacement",
          "year": 2075
         },
         {
          "population": 37.535262,
          "type": "instant replacement",
          "year": 2076
         },
         {
          "population": 37.521963,
          "type": "instant replacement",
          "year": 2077
         },
         {
          "population": 37.517199999999995,
          "type": "instant replacement",
          "year": 2078
         },
         {
          "population": 37.521042,
          "type": "instant replacement",
          "year": 2079
         },
         {
          "population": 37.533461,
          "type": "instant replacement",
          "year": 2080
         },
         {
          "population": 37.554379999999995,
          "type": "instant replacement",
          "year": 2081
         },
         {
          "population": 37.583536,
          "type": "instant replacement",
          "year": 2082
         },
         {
          "population": 37.620478999999996,
          "type": "instant replacement",
          "year": 2083
         },
         {
          "population": 37.664504,
          "type": "instant replacement",
          "year": 2084
         },
         {
          "population": 37.715001,
          "type": "instant replacement",
          "year": 2085
         },
         {
          "population": 37.771529,
          "type": "instant replacement",
          "year": 2086
         },
         {
          "population": 37.833545,
          "type": "instant replacement",
          "year": 2087
         },
         {
          "population": 37.900042,
          "type": "instant replacement",
          "year": 2088
         },
         {
          "population": 37.969877999999994,
          "type": "instant replacement",
          "year": 2089
         },
         {
          "population": 38.042009,
          "type": "instant replacement",
          "year": 2090
         },
         {
          "population": 38.11568799999999,
          "type": "instant replacement",
          "year": 2091
         },
         {
          "population": 38.19032,
          "type": "instant replacement",
          "year": 2092
         },
         {
          "population": 38.265472,
          "type": "instant replacement",
          "year": 2093
         },
         {
          "population": 38.340708,
          "type": "instant replacement",
          "year": 2094
         },
         {
          "population": 38.415546,
          "type": "instant replacement",
          "year": 2095
         },
         {
          "population": 38.489372,
          "type": "instant replacement",
          "year": 2096
         },
         {
          "population": 38.561497,
          "type": "instant replacement",
          "year": 2097
         },
         {
          "population": 38.63106200000001,
          "type": "instant replacement",
          "year": 2098
         },
         {
          "population": 38.697127,
          "type": "instant replacement",
          "year": 2099
         },
         {
          "population": 38.758607000000005,
          "type": "instant replacement",
          "year": 2100
         },
         {
          "population": 43.733759000000006,
          "type": "momentum",
          "year": 2020
         },
         {
          "population": 43.564349,
          "type": "momentum",
          "year": 2021
         },
         {
          "population": 43.426984000000004,
          "type": "momentum",
          "year": 2022
         },
         {
          "population": 43.307277,
          "type": "momentum",
          "year": 2023
         },
         {
          "population": 43.184020999999994,
          "type": "momentum",
          "year": 2024
         },
         {
          "population": 43.04175,
          "type": "momentum",
          "year": 2025
         },
         {
          "population": 42.876095,
          "type": "momentum",
          "year": 2026
         },
         {
          "population": 42.691438,
          "type": "momentum",
          "year": 2027
         },
         {
          "population": 42.491592000000004,
          "type": "momentum",
          "year": 2028
         },
         {
          "population": 42.283457999999996,
          "type": "momentum",
          "year": 2029
         },
         {
          "population": 42.072247000000004,
          "type": "momentum",
          "year": 2030
         },
         {
          "population": 41.858474,
          "type": "momentum",
          "year": 2031
         },
         {
          "population": 41.640457000000005,
          "type": "momentum",
          "year": 2032
         },
         {
          "population": 41.418808,
          "type": "momentum",
          "year": 2033
         },
         {
          "population": 41.194023,
          "type": "momentum",
          "year": 2034
         },
         {
          "population": 40.966628,
          "type": "momentum",
          "year": 2035
         },
         {
          "population": 40.737365,
          "type": "momentum",
          "year": 2036
         },
         {
          "population": 40.507062000000005,
          "type": "momentum",
          "year": 2037
         },
         {
          "population": 40.276466,
          "type": "momentum",
          "year": 2038
         },
         {
          "population": 40.046303,
          "type": "momentum",
          "year": 2039
         },
         {
          "population": 39.817288999999995,
          "type": "momentum",
          "year": 2040
         },
         {
          "population": 39.589898999999996,
          "type": "momentum",
          "year": 2041
         },
         {
          "population": 39.36475,
          "type": "momentum",
          "year": 2042
         },
         {
          "population": 39.142786,
          "type": "momentum",
          "year": 2043
         },
         {
          "population": 38.925109,
          "type": "momentum",
          "year": 2044
         },
         {
          "population": 38.712516,
          "type": "momentum",
          "year": 2045
         },
         {
          "population": 38.505458,
          "type": "momentum",
          "year": 2046
         },
         {
          "population": 38.304013,
          "type": "momentum",
          "year": 2047
         },
         {
          "population": 38.108092000000006,
          "type": "momentum",
          "year": 2048
         },
         {
          "population": 37.91743,
          "type": "momentum",
          "year": 2049
         },
         {
          "population": 37.731737,
          "type": "momentum",
          "year": 2050
         },
         {
          "population": 37.55112200000001,
          "type": "momentum",
          "year": 2051
         },
         {
          "population": 37.375502,
          "type": "momentum",
          "year": 2052
         },
         {
          "population": 37.204328000000004,
          "type": "momentum",
          "year": 2053
         },
         {
          "population": 37.036847,
          "type": "momentum",
          "year": 2054
         },
         {
          "population": 36.872468,
          "type": "momentum",
          "year": 2055
         },
         {
          "population": 36.711062000000005,
          "type": "momentum",
          "year": 2056
         },
         {
          "population": 36.552665999999995,
          "type": "momentum",
          "year": 2057
         },
         {
          "population": 36.39711799999999,
          "type": "momentum",
          "year": 2058
         },
         {
          "population": 36.244265,
          "type": "momentum",
          "year": 2059
         },
         {
          "population": 36.094083,
          "type": "momentum",
          "year": 2060
         },
         {
          "population": 35.946635,
          "type": "momentum",
          "year": 2061
         },
         {
          "population": 35.802136,
          "type": "momentum",
          "year": 2062
         },
         {
          "population": 35.66087399999999,
          "type": "momentum",
          "year": 2063
         },
         {
          "population": 35.523201,
          "type": "momentum",
          "year": 2064
         },
         {
          "population": 35.389546,
          "type": "momentum",
          "year": 2065
         },
         {
          "population": 35.26012,
          "type": "momentum",
          "year": 2066
         },
         {
          "population": 35.135361,
          "type": "momentum",
          "year": 2067
         },
         {
          "population": 35.016197,
          "type": "momentum",
          "year": 2068
         },
         {
          "population": 34.903785000000006,
          "type": "momentum",
          "year": 2069
         },
         {
          "population": 34.799080000000004,
          "type": "momentum",
          "year": 2070
         },
         {
          "population": 34.702347,
          "type": "momentum",
          "year": 2071
         },
         {
          "population": 34.613761,
          "type": "momentum",
          "year": 2072
         },
         {
          "population": 34.533851000000006,
          "type": "momentum",
          "year": 2073
         },
         {
          "population": 34.463138,
          "type": "momentum",
          "year": 2074
         },
         {
          "population": 34.401949,
          "type": "momentum",
          "year": 2075
         },
         {
          "population": 34.350325,
          "type": "momentum",
          "year": 2076
         },
         {
          "population": 34.308011,
          "type": "momentum",
          "year": 2077
         },
         {
          "population": 34.274406000000006,
          "type": "momentum",
          "year": 2078
         },
         {
          "population": 34.248684999999995,
          "type": "momentum",
          "year": 2079
         },
         {
          "population": 34.230055,
          "type": "momentum",
          "year": 2080
         },
         {
          "population": 34.218098,
          "type": "momentum",
          "year": 2081
         },
         {
          "population": 34.212322,
          "type": "momentum",
          "year": 2082
         },
         {
          "population": 34.211652,
          "type": "momentum",
          "year": 2083
         },
         {
          "population": 34.214894,
          "type": "momentum",
          "year": 2084
         },
         {
          "population": 34.220945,
          "type": "momentum",
          "year": 2085
         },
         {
          "population": 34.229212999999994,
          "type": "momentum",
          "year": 2086
         },
         {
          "population": 34.23918700000001,
          "type": "momentum",
          "year": 2087
         },
         {
          "population": 34.250077000000005,
          "type": "momentum",
          "year": 2088
         },
         {
          "population": 34.261098,
          "type": "momentum",
          "year": 2089
         },
         {
          "population": 34.271612999999995,
          "type": "momentum",
          "year": 2090
         },
         {
          "population": 34.281146,
          "type": "momentum",
          "year": 2091
         },
         {
          "population": 34.289391,
          "type": "momentum",
          "year": 2092
         },
         {
          "population": 34.29619,
          "type": "momentum",
          "year": 2093
         },
         {
          "population": 34.301449,
          "type": "momentum",
          "year": 2094
         },
         {
          "population": 34.305123,
          "type": "momentum",
          "year": 2095
         },
         {
          "population": 34.30718100000001,
          "type": "momentum",
          "year": 2096
         },
         {
          "population": 34.307621,
          "type": "momentum",
          "year": 2097
         },
         {
          "population": 34.306434,
          "type": "momentum",
          "year": 2098
         },
         {
          "population": 34.303648,
          "type": "momentum",
          "year": 2099
         },
         {
          "population": 34.299293,
          "type": "momentum",
          "year": 2100
         },
         {
          "population": 43.733759000000006,
          "type": "zero migration",
          "year": 2020
         },
         {
          "population": 43.46049299999999,
          "type": "zero migration",
          "year": 2021
         },
         {
          "population": 43.181379,
          "type": "zero migration",
          "year": 2022
         },
         {
          "population": 42.897282,
          "type": "zero migration",
          "year": 2023
         },
         {
          "population": 42.60904,
          "type": "zero migration",
          "year": 2024
         },
         {
          "population": 42.317434999999996,
          "type": "zero migration",
          "year": 2025
         },
         {
          "population": 42.023349,
          "type": "zero migration",
          "year": 2026
         },
         {
          "population": 41.727587,
          "type": "zero migration",
          "year": 2027
         },
         {
          "population": 41.430964,
          "type": "zero migration",
          "year": 2028
         },
         {
          "population": 41.134252000000004,
          "type": "zero migration",
          "year": 2029
         },
         {
          "population": 40.838134,
          "type": "zero migration",
          "year": 2030
         },
         {
          "population": 40.543121,
          "type": "zero migration",
          "year": 2031
         },
         {
          "population": 40.249542,
          "type": "zero migration",
          "year": 2032
         },
         {
          "population": 39.957451,
          "type": "zero migration",
          "year": 2033
         },
         {
          "population": 39.666737999999995,
          "type": "zero migration",
          "year": 2034
         },
         {
          "population": 39.37732,
          "type": "zero migration",
          "year": 2035
         },
         {
          "population": 39.089330000000004,
          "type": "zero migration",
          "year": 2036
         },
         {
          "population": 38.802868,
          "type": "zero migration",
          "year": 2037
         },
         {
          "population": 38.517894999999996,
          "type": "zero migration",
          "year": 2038
         },
         {
          "population": 38.234233,
          "type": "zero migration",
          "year": 2039
         },
         {
          "population": 37.951765,
          "type": "zero migration",
          "year": 2040
         },
         {
          "population": 37.670431,
          "type": "zero migration",
          "year": 2041
         },
         {
          "population": 37.390174,
          "type": "zero migration",
          "year": 2042
         },
         {
          "population": 37.11078500000001,
          "type": "zero migration",
          "year": 2043
         },
         {
          "population": 36.832076,
          "type": "zero migration",
          "year": 2044
         },
         {
          "population": 36.553809,
          "type": "zero migration",
          "year": 2045
         },
         {
          "population": 36.275903,
          "type": "zero migration",
          "year": 2046
         },
         {
          "population": 35.998262000000004,
          "type": "zero migration",
          "year": 2047
         },
         {
          "population": 35.720725,
          "type": "zero migration",
          "year": 2048
         },
         {
          "population": 35.443144000000004,
          "type": "zero migration",
          "year": 2049
         },
         {
          "population": 35.165373,
          "type": "zero migration",
          "year": 2050
         },
         {
          "population": 34.887401,
          "type": "zero migration",
          "year": 2051
         },
         {
          "population": 34.609192,
          "type": "zero migration",
          "year": 2052
         },
         {
          "population": 34.330587,
          "type": "zero migration",
          "year": 2053
         },
         {
          "population": 34.051415999999996,
          "type": "zero migration",
          "year": 2054
         },
         {
          "population": 33.771574,
          "type": "zero migration",
          "year": 2055
         },
         {
          "population": 33.491127999999996,
          "type": "zero migration",
          "year": 2056
         },
         {
          "population": 33.210260999999996,
          "type": "zero migration",
          "year": 2057
         },
         {
          "population": 32.929218999999996,
          "type": "zero migration",
          "year": 2058
         },
         {
          "population": 32.648342,
          "type": "zero migration",
          "year": 2059
         },
         {
          "population": 32.36795,
          "type": "zero migration",
          "year": 2060
         },
         {
          "population": 32.088322999999995,
          "type": "zero migration",
          "year": 2061
         },
         {
          "population": 31.809717999999997,
          "type": "zero migration",
          "year": 2062
         },
         {
          "population": 31.532584,
          "type": "zero migration",
          "year": 2063
         },
         {
          "population": 31.257412999999996,
          "type": "zero migration",
          "year": 2064
         },
         {
          "population": 30.984695,
          "type": "zero migration",
          "year": 2065
         },
         {
          "population": 30.714754,
          "type": "zero migration",
          "year": 2066
         },
         {
          "population": 30.447958,
          "type": "zero migration",
          "year": 2067
         },
         {
          "population": 30.184808999999998,
          "type": "zero migration",
          "year": 2068
         },
         {
          "population": 29.925869,
          "type": "zero migration",
          "year": 2069
         },
         {
          "population": 29.671624,
          "type": "zero migration",
          "year": 2070
         },
         {
          "population": 29.422379,
          "type": "zero migration",
          "year": 2071
         },
         {
          "population": 29.178391,
          "type": "zero migration",
          "year": 2072
         },
         {
          "population": 28.940034,
          "type": "zero migration",
          "year": 2073
         },
         {
          "population": 28.7077,
          "type": "zero migration",
          "year": 2074
         },
         {
          "population": 28.481672999999997,
          "type": "zero migration",
          "year": 2075
         },
         {
          "population": 28.26208,
          "type": "zero migration",
          "year": 2076
         },
         {
          "population": 28.048972999999997,
          "type": "zero migration",
          "year": 2077
         },
         {
          "population": 27.842392999999998,
          "type": "zero migration",
          "year": 2078
         },
         {
          "population": 27.642356,
          "type": "zero migration",
          "year": 2079
         },
         {
          "population": 27.448793,
          "type": "zero migration",
          "year": 2080
         },
         {
          "population": 27.261598999999997,
          "type": "zero migration",
          "year": 2081
         },
         {
          "population": 27.080577,
          "type": "zero migration",
          "year": 2082
         },
         {
          "population": 26.905314999999998,
          "type": "zero migration",
          "year": 2083
         },
         {
          "population": 26.735294999999997,
          "type": "zero migration",
          "year": 2084
         },
         {
          "population": 26.570037999999997,
          "type": "zero migration",
          "year": 2085
         },
         {
          "population": 26.409246,
          "type": "zero migration",
          "year": 2086
         },
         {
          "population": 26.252562,
          "type": "zero migration",
          "year": 2087
         },
         {
          "population": 26.099387999999998,
          "type": "zero migration",
          "year": 2088
         },
         {
          "population": 25.949001,
          "type": "zero migration",
          "year": 2089
         },
         {
          "population": 25.800773999999997,
          "type": "zero migration",
          "year": 2090
         },
         {
          "population": 25.654251,
          "type": "zero migration",
          "year": 2091
         },
         {
          "population": 25.509144,
          "type": "zero migration",
          "year": 2092
         },
         {
          "population": 25.36518,
          "type": "zero migration",
          "year": 2093
         },
         {
          "population": 25.222174,
          "type": "zero migration",
          "year": 2094
         },
         {
          "population": 25.07987,
          "type": "zero migration",
          "year": 2095
         },
         {
          "population": 24.937991,
          "type": "zero migration",
          "year": 2096
         },
         {
          "population": 24.796171,
          "type": "zero migration",
          "year": 2097
         },
         {
          "population": 24.654012,
          "type": "zero migration",
          "year": 2098
         },
         {
          "population": 24.511045,
          "type": "zero migration",
          "year": 2099
         },
         {
          "population": 24.366739,
          "type": "zero migration",
          "year": 2100
         },
         {
          "population": 43.733759000000006,
          "type": "constant mortality",
          "year": 2020
         },
         {
          "population": 43.447755,
          "type": "constant mortality",
          "year": 2021
         },
         {
          "population": 43.151887,
          "type": "constant mortality",
          "year": 2022
         },
         {
          "population": 42.847205,
          "type": "constant mortality",
          "year": 2023
         },
         {
          "population": 42.53471700000001,
          "type": "constant mortality",
          "year": 2024
         },
         {
          "population": 42.215297,
          "type": "constant mortality",
          "year": 2025
         },
         {
          "population": 41.889807,
          "type": "constant mortality",
          "year": 2026
         },
         {
          "population": 41.558972000000004,
          "type": "constant mortality",
          "year": 2027
         },
         {
          "population": 41.223482000000004,
          "type": "constant mortality",
          "year": 2028
         },
         {
          "population": 40.883951,
          "type": "constant mortality",
          "year": 2029
         },
         {
          "population": 40.54098200000001,
          "type": "constant mortality",
          "year": 2030
         },
         {
          "population": 40.195102999999996,
          "type": "constant mortality",
          "year": 2031
         },
         {
          "population": 39.846865,
          "type": "constant mortality",
          "year": 2032
         },
         {
          "population": 39.496822,
          "type": "constant mortality",
          "year": 2033
         },
         {
          "population": 39.145542999999996,
          "type": "constant mortality",
          "year": 2034
         },
         {
          "population": 38.793442000000006,
          "type": "constant mortality",
          "year": 2035
         },
         {
          "population": 38.440951,
          "type": "constant mortality",
          "year": 2036
         },
         {
          "population": 38.088291,
          "type": "constant mortality",
          "year": 2037
         },
         {
          "population": 37.73556200000001,
          "type": "constant mortality",
          "year": 2038
         },
         {
          "population": 37.382760000000005,
          "type": "constant mortality",
          "year": 2039
         },
         {
          "population": 37.029905,
          "type": "constant mortality",
          "year": 2040
         },
         {
          "population": 36.677085,
          "type": "constant mortality",
          "year": 2041
         },
         {
          "population": 36.32447799999999,
          "type": "constant mortality",
          "year": 2042
         },
         {
          "population": 35.972114999999995,
          "type": "constant mortality",
          "year": 2043
         },
         {
          "population": 35.620050000000006,
          "type": "constant mortality",
          "year": 2044
         },
         {
          "population": 35.268297999999994,
          "type": "constant mortality",
          "year": 2045
         },
         {
          "population": 34.916925000000006,
          "type": "constant mortality",
          "year": 2046
         },
         {
          "population": 34.565922,
          "type": "constant mortality",
          "year": 2047
         },
         {
          "population": 34.215066,
          "type": "constant mortality",
          "year": 2048
         },
         {
          "population": 33.864053999999996,
          "type": "constant mortality",
          "year": 2049
         },
         {
          "population": 33.512682,
          "type": "constant mortality",
          "year": 2050
         },
         {
          "population": 33.16103,
          "type": "constant mortality",
          "year": 2051
         },
         {
          "population": 32.809181,
          "type": "constant mortality",
          "year": 2052
         },
         {
          "population": 32.45707,
          "type": "constant mortality",
          "year": 2053
         },
         {
          "population": 32.104561000000004,
          "type": "constant mortality",
          "year": 2054
         },
         {
          "population": 31.751652000000004,
          "type": "constant mortality",
          "year": 2055
         },
         {
          "population": 31.398529999999997,
          "type": "constant mortality",
          "year": 2056
         },
         {
          "population": 31.045554,
          "type": "constant mortality",
          "year": 2057
         },
         {
          "population": 30.693215,
          "type": "constant mortality",
          "year": 2058
         },
         {
          "population": 30.342093,
          "type": "constant mortality",
          "year": 2059
         },
         {
          "population": 29.992787999999997,
          "type": "constant mortality",
          "year": 2060
         },
         {
          "population": 29.645702,
          "type": "constant mortality",
          "year": 2061
         },
         {
          "population": 29.301333,
          "type": "constant mortality",
          "year": 2062
         },
         {
          "population": 28.960499,
          "type": "constant mortality",
          "year": 2063
         },
         {
          "population": 28.624129,
          "type": "constant mortality",
          "year": 2064
         },
         {
          "population": 28.293052000000003,
          "type": "constant mortality",
          "year": 2065
         },
         {
          "population": 27.967717,
          "type": "constant mortality",
          "year": 2066
         },
         {
          "population": 27.648552000000002,
          "type": "constant mortality",
          "year": 2067
         },
         {
          "population": 27.336282999999998,
          "type": "constant mortality",
          "year": 2068
         },
         {
          "population": 27.031737,
          "type": "constant mortality",
          "year": 2069
         },
         {
          "population": 26.735501,
          "type": "constant mortality",
          "year": 2070
         },
         {
          "population": 26.447868999999997,
          "type": "constant mortality",
          "year": 2071
         },
         {
          "population": 26.16891,
          "type": "constant mortality",
          "year": 2072
         },
         {
          "population": 25.898667,
          "type": "constant mortality",
          "year": 2073
         },
         {
          "population": 25.637115,
          "type": "constant mortality",
          "year": 2074
         },
         {
          "population": 25.384087000000005,
          "type": "constant mortality",
          "year": 2075
         },
         {
          "population": 25.139508,
          "type": "constant mortality",
          "year": 2076
         },
         {
          "population": 24.903102999999998,
          "type": "constant mortality",
          "year": 2077
         },
         {
          "population": 24.674275,
          "type": "constant mortality",
          "year": 2078
         },
         {
          "population": 24.452248,
          "type": "constant mortality",
          "year": 2079
         },
         {
          "population": 24.236279999999997,
          "type": "constant mortality",
          "year": 2080
         },
         {
          "population": 24.02603,
          "type": "constant mortality",
          "year": 2081
         },
         {
          "population": 23.821081000000003,
          "type": "constant mortality",
          "year": 2082
         },
         {
          "population": 23.620577,
          "type": "constant mortality",
          "year": 2083
         },
         {
          "population": 23.423487,
          "type": "constant mortality",
          "year": 2084
         },
         {
          "population": 23.228982999999996,
          "type": "constant mortality",
          "year": 2085
         },
         {
          "population": 23.036668,
          "type": "constant mortality",
          "year": 2086
         },
         {
          "population": 22.846292000000002,
          "type": "constant mortality",
          "year": 2087
         },
         {
          "population": 22.65755,
          "type": "constant mortality",
          "year": 2088
         },
         {
          "population": 22.470227,
          "type": "constant mortality",
          "year": 2089
         },
         {
          "population": 22.284126,
          "type": "constant mortality",
          "year": 2090
         },
         {
          "population": 22.099199000000002,
          "type": "constant mortality",
          "year": 2091
         },
         {
          "population": 21.915425,
          "type": "constant mortality",
          "year": 2092
         },
         {
          "population": 21.732906000000003,
          "type": "constant mortality",
          "year": 2093
         },
         {
          "population": 21.551785,
          "type": "constant mortality",
          "year": 2094
         },
         {
          "population": 21.372297000000003,
          "type": "constant mortality",
          "year": 2095
         },
         {
          "population": 21.19475,
          "type": "constant mortality",
          "year": 2096
         },
         {
          "population": 21.019543,
          "type": "constant mortality",
          "year": 2097
         },
         {
          "population": 20.847148999999998,
          "type": "constant mortality",
          "year": 2098
         },
         {
          "population": 20.67812,
          "type": "constant mortality",
          "year": 2099
         },
         {
          "population": 20.513055,
          "type": "constant mortality",
          "year": 2100
         },
         {
          "population": 43.733759000000006,
          "type": "no change",
          "year": 2020
         },
         {
          "population": 43.452324999999995,
          "type": "no change",
          "year": 2021
         },
         {
          "population": 43.159825999999995,
          "type": "no change",
          "year": 2022
         },
         {
          "population": 42.85732599999999,
          "type": "no change",
          "year": 2023
         },
         {
          "population": 42.545696,
          "type": "no change",
          "year": 2024
         },
         {
          "population": 42.225812000000005,
          "type": "no change",
          "year": 2025
         },
         {
          "population": 41.898367,
          "type": "no change",
          "year": 2026
         },
         {
          "population": 41.564,
          "type": "no change",
          "year": 2027
         },
         {
          "population": 41.223222,
          "type": "no change",
          "year": 2028
         },
         {
          "population": 40.876497,
          "type": "no change",
          "year": 2029
         },
         {
          "population": 40.524285000000006,
          "type": "no change",
          "year": 2030
         },
         {
          "population": 40.167063999999996,
          "type": "no change",
          "year": 2031
         },
         {
          "population": 39.805437000000005,
          "type": "no change",
          "year": 2032
         },
         {
          "population": 39.440125,
          "type": "no change",
          "year": 2033
         },
         {
          "population": 39.071915999999995,
          "type": "no change",
          "year": 2034
         },
         {
          "population": 38.701435,
          "type": "no change",
          "year": 2035
         },
         {
          "population": 38.329186,
          "type": "no change",
          "year": 2036
         },
         {
          "population": 37.955415,
          "type": "no change",
          "year": 2037
         },
         {
          "population": 37.580286,
          "type": "no change",
          "year": 2038
         },
         {
          "population": 37.203838,
          "type": "no change",
          "year": 2039
         },
         {
          "population": 36.826192000000006,
          "type": "no change",
          "year": 2040
         },
         {
          "population": 36.447478,
          "type": "no change",
          "year": 2041
         },
         {
          "population": 36.067955000000005,
          "type": "no change",
          "year": 2042
         },
         {
          "population": 35.687756,
          "type": "no change",
          "year": 2043
         },
         {
          "population": 35.307056,
          "type": "no change",
          "year": 2044
         },
         {
          "population": 34.925957000000004,
          "type": "no change",
          "year": 2045
         },
         {
          "population": 34.544563,
          "type": "no change",
          "year": 2046
         },
         {
          "population": 34.162915999999996,
          "type": "no change",
          "year": 2047
         },
         {
          "population": 33.780858,
          "type": "no change",
          "year": 2048
         },
         {
          "population": 33.398146000000004,
          "type": "no change",
          "year": 2049
         },
         {
          "population": 33.014622,
          "type": "no change",
          "year": 2050
         },
         {
          "population": 32.630357000000004,
          "type": "no change",
          "year": 2051
         },
         {
          "population": 32.245474,
          "type": "no change",
          "year": 2052
         },
         {
          "population": 31.859855,
          "type": "no change",
          "year": 2053
         },
         {
          "population": 31.473315,
          "type": "no change",
          "year": 2054
         },
         {
          "population": 31.085842999999997,
          "type": "no change",
          "year": 2055
         },
         {
          "population": 30.697577999999996,
          "type": "no change",
          "year": 2056
         },
         {
          "population": 30.308873,
          "type": "no change",
          "year": 2057
         },
         {
          "population": 29.920071,
          "type": "no change",
          "year": 2058
         },
         {
          "population": 29.531652,
          "type": "no change",
          "year": 2059
         },
         {
          "population": 29.144097000000002,
          "type": "no change",
          "year": 2060
         },
         {
          "population": 28.757772,
          "type": "no change",
          "year": 2061
         },
         {
          "population": 28.373146000000002,
          "type": "no change",
          "year": 2062
         },
         {
          "population": 27.991025,
          "type": "no change",
          "year": 2063
         },
         {
          "population": 27.612334,
          "type": "no change",
          "year": 2064
         },
         {
          "population": 27.237876,
          "type": "no change",
          "year": 2065
         },
         {
          "population": 26.868111000000003,
          "type": "no change",
          "year": 2066
         },
         {
          "population": 26.503457,
          "type": "no change",
          "year": 2067
         },
         {
          "population": 26.144692000000003,
          "type": "no change",
          "year": 2068
         },
         {
          "population": 25.792613999999997,
          "type": "no change",
          "year": 2069
         },
         {
          "population": 25.447867000000002,
          "type": "no change",
          "year": 2070
         },
         {
          "population": 25.11074,
          "type": "no change",
          "year": 2071
         },
         {
          "population": 24.781384999999997,
          "type": "no change",
          "year": 2072
         },
         {
          "population": 24.459951,
          "type": "no change",
          "year": 2073
         },
         {
          "population": 24.14656,
          "type": "no change",
          "year": 2074
         },
         {
          "population": 23.841167000000002,
          "type": "no change",
          "year": 2075
         },
         {
          "population": 23.543770000000002,
          "type": "no change",
          "year": 2076
         },
         {
          "population": 23.254127999999998,
          "type": "no change",
          "year": 2077
         },
         {
          "population": 22.971691000000003,
          "type": "no change",
          "year": 2078
         },
         {
          "population": 22.695717000000002,
          "type": "no change",
          "year": 2079
         },
         {
          "population": 22.425502,
          "type": "no change",
          "year": 2080
         },
         {
          "population": 22.160755,
          "type": "no change",
          "year": 2081
         },
         {
          "population": 21.901105,
          "type": "no change",
          "year": 2082
         },
         {
          "population": 21.645736,
          "type": "no change",
          "year": 2083
         },
         {
          "population": 21.393732999999997,
          "type": "no change",
          "year": 2084
         },
         {
          "population": 21.144327999999998,
          "type": "no change",
          "year": 2085
         },
         {
          "population": 20.897133999999998,
          "type": "no change",
          "year": 2086
         },
         {
          "population": 20.651942,
          "type": "no change",
          "year": 2087
         },
         {
          "population": 20.408392,
          "type": "no change",
          "year": 2088
         },
         {
          "population": 20.166165,
          "type": "no change",
          "year": 2089
         },
         {
          "population": 19.925064,
          "type": "no change",
          "year": 2090
         },
         {
          "population": 19.685001,
          "type": "no change",
          "year": 2091
         },
         {
          "population": 19.445985,
          "type": "no change",
          "year": 2092
         },
         {
          "population": 19.208136000000003,
          "type": "no change",
          "year": 2093
         },
         {
          "population": 18.971657,
          "type": "no change",
          "year": 2094
         },
         {
          "population": 18.736814,
          "type": "no change",
          "year": 2095
         },
         {
          "population": 18.503919999999997,
          "type": "no change",
          "year": 2096
         },
         {
          "population": 18.273377,
          "type": "no change",
          "year": 2097
         },
         {
          "population": 18.045582999999997,
          "type": "no change",
          "year": 2098
         },
         {
          "population": 17.821078,
          "type": "no change",
          "year": 2099
         },
         {
          "population": 17.60038,
          "type": "no change",
          "year": 2100
         }
        ],
        "data-938928f730b7f3bfa1ed62a2a51c34c0": [
         {
          "color": "red",
          "position": 24.713452,
          "text": "medium variant",
          "x": 0.1
         },
         {
          "color": "red",
          "position": 37.484422,
          "text": "high variant",
          "x": 0.1
         },
         {
          "color": "red",
          "position": 14.897041000000002,
          "text": "low variant",
          "x": 0.1
         },
         {
          "color": "normal",
          "position": 21.355851,
          "text": "constant fertility",
          "x": 0.1
         },
         {
          "color": "normal",
          "position": 38.758607000000005,
          "text": "instant replacement",
          "x": 0.1
         },
         {
          "color": "normal",
          "position": 34.299293,
          "text": "momentum",
          "x": 0.1
         },
         {
          "color": "normal",
          "position": 24.066739,
          "text": "zero migration",
          "x": 0.1
         },
         {
          "color": "normal",
          "position": 20.513055,
          "text": "constant mortality",
          "x": 0.1
         },
         {
          "color": "normal",
          "position": 17.60038,
          "text": "no change",
          "x": 0.1
         }
        ],
        "data-9b0e8a4eef8c8c4e88420d448239e40d": [
         {
          "position": 53,
          "text": "estimate",
          "top_color": "blue",
          "year": 1985
         },
         {
          "position": 53,
          "text": "projection",
          "top_color": "red",
          "year": 2060
         }
        ]
       },
       "hconcat": [
        {
         "layer": [
          {
           "data": {
            "name": "data-9b0e8a4eef8c8c4e88420d448239e40d"
           },
           "encoding": {
            "color": {
             "field": "top_color",
             "legend": null,
             "scale": {
              "domain": [
               "normal",
               "blue",
               "red"
              ],
              "range": [
               "#5D646F",
               "#3389BD",
               "#D8505F"
              ]
             },
             "type": "nominal"
            },
            "text": {
             "field": "text",
             "type": "nominal"
            },
            "x": {
             "axis": {
              "gridColor": "#CCD2D4",
              "gridDash": [
               2,
               2
              ],
              "gridOpacity": 0.8,
              "tickColor": "#5D646F",
              "title": null,
              "values": [
               1950,
               1991,
               2020,
               2100
              ]
             },
             "field": "year",
             "scale": {
              "domain": [
               1950,
               2100
              ]
             },
             "type": "quantitative"
            },
            "y": {
             "axis": null,
             "field": "position",
             "scale": {
              "domain": [
               15,
               55
              ]
             },
             "title": null,
             "type": "quantitative"
            }
           },
           "height": 650,
           "mark": {
            "size": 16,
            "type": "text"
           },
           "width": 1000
          },
          {
           "data": {
            "name": "data-14351e6737e7fcbd5a1815435c4fe4a2"
           },
           "encoding": {
            "x": {
             "axis": {
              "gridColor": "#CCD2D4",
              "gridDash": [
               2,
               2
              ],
              "gridOpacity": 0.8,
              "tickColor": "#5D646F",
              "title": null,
              "values": [
               1950,
               1991,
               2020,
               2100
              ]
             },
             "field": "year",
             "scale": {
              "domain": [
               1950,
               2100
              ]
             },
             "type": "quantitative"
            },
            "y": {
             "axis": {
              "gridColor": "#CCD2D4",
              "gridDash": [
               2,
               2
              ],
              "gridOpacity": 0.8,
              "tickColor": "#5D646F",
              "tickMinStep": 5,
              "title": null
             },
             "field": "population",
             "scale": {
              "domain": [
               15,
               55
              ]
             },
             "type": "quantitative"
            }
           },
           "height": 650,
           "mark": {
            "color": "#3389BD",
            "type": "line"
           },
           "transform": [
            {
             "filter": {
              "equal": "estimate",
              "field": "type"
             }
            }
           ],
           "width": 1000
          },
          {
           "data": {
            "name": "data-14351e6737e7fcbd5a1815435c4fe4a2"
           },
           "encoding": {
            "x": {
             "axis": {
              "gridColor": "#CCD2D4",
              "gridDash": [
               2,
               2
              ],
              "gridOpacity": 0.8,
              "tickColor": "#5D646F",
              "title": null,
              "values": [
               1950,
               1991,
               2020,
               2100
              ]
             },
             "field": "year",
             "scale": {
              "domain": [
               1950,
               2100
              ]
             },
             "type": "quantitative"
            },
            "y": {
             "axis": {
              "gridColor": "#CCD2D4",
              "gridDash": [
               2,
               2
              ],
              "gridOpacity": 0.8,
              "tickColor": "#5D646F",
              "tickMinStep": 5,
              "title": null
             },
             "field": "population",
             "scale": {
              "domain": [
               15,
               55
              ]
             },
             "type": "quantitative"
            }
           },
           "height": 650,
           "mark": {
            "color": "#D8505F",
            "strokeDash": [
             6,
             2
            ],
            "type": "line"
           },
           "transform": [
            {
             "filter": {
              "equal": "medium variant",
              "field": "type"
             }
            }
           ],
           "width": 1000
          },
          {
           "data": {
            "name": "data-14351e6737e7fcbd5a1815435c4fe4a2"
           },
           "encoding": {
            "x": {
             "axis": {
              "gridColor": "#CCD2D4",
              "gridDash": [
               2,
               2
              ],
              "gridOpacity": 0.8,
              "tickColor": "#5D646F",
              "title": null,
              "values": [
               1950,
               1991,
               2020,
               2100
              ]
             },
             "field": "year",
             "scale": {
              "domain": [
               1950,
               2100
              ]
             },
             "type": "quantitative"
            },
            "y": {
             "axis": {
              "gridColor": "#CCD2D4",
              "gridDash": [
               2,
               2
              ],
              "gridOpacity": 0.8,
              "tickColor": "#5D646F",
              "tickMinStep": 5,
              "title": null
             },
             "field": "population",
             "scale": {
              "domain": [
               15,
               55
              ]
             },
             "type": "quantitative"
            }
           },
           "height": 650,
           "mark": {
            "color": "#D8505F",
            "strokeDash": [
             6,
             2
            ],
            "type": "line"
           },
           "transform": [
            {
             "filter": {
              "equal": "high variant",
              "field": "type"
             }
            }
           ],
           "width": 1000
          },
          {
           "data": {
            "name": "data-14351e6737e7fcbd5a1815435c4fe4a2"
           },
           "encoding": {
            "x": {
             "axis": {
              "gridColor": "#CCD2D4",
              "gridDash": [
               2,
               2
              ],
              "gridOpacity": 0.8,
              "tickColor": "#5D646F",
              "title": null,
              "values": [
               1950,
               1991,
               2020,
               2100
              ]
             },
             "field": "year",
             "scale": {
              "domain": [
               1950,
               2100
              ]
             },
             "type": "quantitative"
            },
            "y": {
             "axis": {
              "gridColor": "#CCD2D4",
              "gridDash": [
               2,
               2
              ],
              "gridOpacity": 0.8,
              "tickColor": "#5D646F",
              "tickMinStep": 5,
              "title": null
             },
             "field": "population",
             "scale": {
              "domain": [
               15,
               55
              ]
             },
             "type": "quantitative"
            }
           },
           "height": 650,
           "mark": {
            "color": "#D8505F",
            "strokeDash": [
             6,
             2
            ],
            "type": "line"
           },
           "transform": [
            {
             "filter": {
              "equal": "low variant",
              "field": "type"
             }
            }
           ],
           "width": 1000
          },
          {
           "data": {
            "name": "data-14351e6737e7fcbd5a1815435c4fe4a2"
           },
           "encoding": {
            "x": {
             "axis": {
              "gridColor": "#CCD2D4",
              "gridDash": [
               2,
               2
              ],
              "gridOpacity": 0.8,
              "tickColor": "#5D646F",
              "title": null,
              "values": [
               1950,
               1991,
               2020,
               2100
              ]
             },
             "field": "year",
             "scale": {
              "domain": [
               1950,
               2100
              ]
             },
             "type": "quantitative"
            },
            "y": {
             "axis": {
              "gridColor": "#CCD2D4",
              "gridDash": [
               2,
               2
              ],
              "gridOpacity": 0.8,
              "tickColor": "#5D646F",
              "tickMinStep": 5,
              "title": null
             },
             "field": "population",
             "scale": {
              "domain": [
               15,
               55
              ]
             },
             "type": "quantitative"
            }
           },
           "height": 650,
           "mark": {
            "color": "#D8505F",
            "strokeDash": [
             6,
             2
            ],
            "type": "line"
           },
           "transform": [
            {
             "filter": {
              "equal": "constant fertility",
              "field": "type"
             }
            }
           ],
           "width": 1000
          },
          {
           "data": {
            "name": "data-14351e6737e7fcbd5a1815435c4fe4a2"
           },
           "encoding": {
            "x": {
             "axis": {
              "gridColor": "#CCD2D4",
              "gridDash": [
               2,
               2
              ],
              "gridOpacity": 0.8,
              "tickColor": "#5D646F",
              "title": null,
              "values": [
               1950,
               1991,
               2020,
               2100
              ]
             },
             "field": "year",
             "scale": {
              "domain": [
               1950,
               2100
              ]
             },
             "type": "quantitative"
            },
            "y": {
             "axis": {
              "gridColor": "#CCD2D4",
              "gridDash": [
               2,
               2
              ],
              "gridOpacity": 0.8,
              "tickColor": "#5D646F",
              "tickMinStep": 5,
              "title": null
             },
             "field": "population",
             "scale": {
              "domain": [
               15,
               55
              ]
             },
             "type": "quantitative"
            }
           },
           "height": 650,
           "mark": {
            "color": "#D8505F",
            "strokeDash": [
             6,
             2
            ],
            "type": "line"
           },
           "transform": [
            {
             "filter": {
              "equal": "instant replacement",
              "field": "type"
             }
            }
           ],
           "width": 1000
          },
          {
           "data": {
            "name": "data-14351e6737e7fcbd5a1815435c4fe4a2"
           },
           "encoding": {
            "x": {
             "axis": {
              "gridColor": "#CCD2D4",
              "gridDash": [
               2,
               2
              ],
              "gridOpacity": 0.8,
              "tickColor": "#5D646F",
              "title": null,
              "values": [
               1950,
               1991,
               2020,
               2100
              ]
             },
             "field": "year",
             "scale": {
              "domain": [
               1950,
               2100
              ]
             },
             "type": "quantitative"
            },
            "y": {
             "axis": {
              "gridColor": "#CCD2D4",
              "gridDash": [
               2,
               2
              ],
              "gridOpacity": 0.8,
              "tickColor": "#5D646F",
              "tickMinStep": 5,
              "title": null
             },
             "field": "population",
             "scale": {
              "domain": [
               15,
               55
              ]
             },
             "type": "quantitative"
            }
           },
           "height": 650,
           "mark": {
            "color": "#D8505F",
            "strokeDash": [
             6,
             2
            ],
            "type": "line"
           },
           "transform": [
            {
             "filter": {
              "equal": "momentum",
              "field": "type"
             }
            }
           ],
           "width": 1000
          },
          {
           "data": {
            "name": "data-14351e6737e7fcbd5a1815435c4fe4a2"
           },
           "encoding": {
            "x": {
             "axis": {
              "gridColor": "#CCD2D4",
              "gridDash": [
               2,
               2
              ],
              "gridOpacity": 0.8,
              "tickColor": "#5D646F",
              "title": null,
              "values": [
               1950,
               1991,
               2020,
               2100
              ]
             },
             "field": "year",
             "scale": {
              "domain": [
               1950,
               2100
              ]
             },
             "type": "quantitative"
            },
            "y": {
             "axis": {
              "gridColor": "#CCD2D4",
              "gridDash": [
               2,
               2
              ],
              "gridOpacity": 0.8,
              "tickColor": "#5D646F",
              "tickMinStep": 5,
              "title": null
             },
             "field": "population",
             "scale": {
              "domain": [
               15,
               55
              ]
             },
             "type": "quantitative"
            }
           },
           "height": 650,
           "mark": {
            "color": "#D8505F",
            "strokeDash": [
             6,
             2
            ],
            "type": "line"
           },
           "transform": [
            {
             "filter": {
              "equal": "zero migration",
              "field": "type"
             }
            }
           ],
           "width": 1000
          },
          {
           "data": {
            "name": "data-14351e6737e7fcbd5a1815435c4fe4a2"
           },
           "encoding": {
            "x": {
             "axis": {
              "gridColor": "#CCD2D4",
              "gridDash": [
               2,
               2
              ],
              "gridOpacity": 0.8,
              "tickColor": "#5D646F",
              "title": null,
              "values": [
               1950,
               1991,
               2020,
               2100
              ]
             },
             "field": "year",
             "scale": {
              "domain": [
               1950,
               2100
              ]
             },
             "type": "quantitative"
            },
            "y": {
             "axis": {
              "gridColor": "#CCD2D4",
              "gridDash": [
               2,
               2
              ],
              "gridOpacity": 0.8,
              "tickColor": "#5D646F",
              "tickMinStep": 5,
              "title": null
             },
             "field": "population",
             "scale": {
              "domain": [
               15,
               55
              ]
             },
             "type": "quantitative"
            }
           },
           "height": 650,
           "mark": {
            "color": "#D8505F",
            "strokeDash": [
             6,
             2
            ],
            "type": "line"
           },
           "transform": [
            {
             "filter": {
              "equal": "constant mortality",
              "field": "type"
             }
            }
           ],
           "width": 1000
          },
          {
           "data": {
            "name": "data-14351e6737e7fcbd5a1815435c4fe4a2"
           },
           "encoding": {
            "x": {
             "axis": {
              "gridColor": "#CCD2D4",
              "gridDash": [
               2,
               2
              ],
              "gridOpacity": 0.8,
              "tickColor": "#5D646F",
              "title": null,
              "values": [
               1950,
               1991,
               2020,
               2100
              ]
             },
             "field": "year",
             "scale": {
              "domain": [
               1950,
               2100
              ]
             },
             "type": "quantitative"
            },
            "y": {
             "axis": {
              "gridColor": "#CCD2D4",
              "gridDash": [
               2,
               2
              ],
              "gridOpacity": 0.8,
              "tickColor": "#5D646F",
              "tickMinStep": 5,
              "title": null
             },
             "field": "population",
             "scale": {
              "domain": [
               15,
               55
              ]
             },
             "type": "quantitative"
            }
           },
           "height": 650,
           "mark": {
            "color": "#D8505F",
            "strokeDash": [
             6,
             2
            ],
            "type": "line"
           },
           "transform": [
            {
             "filter": {
              "equal": "no change",
              "field": "type"
             }
            }
           ],
           "width": 1000
          }
         ]
        },
        {
         "data": {
          "name": "data-938928f730b7f3bfa1ed62a2a51c34c0"
         },
         "encoding": {
          "color": {
           "field": "color",
           "legend": null,
           "scale": {
            "domain": [
             "normal",
             "red"
            ],
            "range": [
             "#5D646F",
             "#D8505F"
            ]
           },
           "type": "nominal"
          },
          "text": {
           "field": "text",
           "type": "nominal"
          },
          "x": {
           "axis": null,
           "field": "x",
           "scale": {
            "domain": [
             0,
             1
            ]
           },
           "title": null,
           "type": "quantitative"
          },
          "y": {
           "axis": null,
           "field": "position",
           "scale": {
            "domain": [
             15,
             55
            ]
           },
           "title": null,
           "type": "quantitative"
          }
         },
         "height": 650,
         "mark": {
          "align": "left",
          "size": 14,
          "type": "text"
         },
         "width": 200
        }
       ]
      },
      "image/png": "[encoded data removed]",
      "text/plain": [
       "<VegaLite 3 object>\n",
       "\n",
       "If you see this message, it means the renderer has not been properly enabled\n",
       "for the frontend that you are using. For more information, see\n",
       "https://altair-viz.github.io/user_guide/troubleshooting.html\n"
      ]
     },
     "execution_count": 667,
     "metadata": {},
     "output_type": "execute_result"
    }
   ],
   "source": [
    "final_chart = alt.hconcat(\n",
    "    layer,\n",
    "    label_chart\n",
    ").configure_view(\n",
    "    stroke=None\n",
    ").configure_concat(\n",
    "    spacing=0\n",
    ")\n",
    "final_chart"
   ]
  },
  {
   "cell_type": "markdown",
   "metadata": {},
   "source": [
    "## save chart"
   ]
  },
  {
   "cell_type": "code",
   "execution_count": 653,
   "metadata": {},
   "outputs": [],
   "source": [
    "final_chart.save('chart.png', webdriver='firefox')"
   ]
  },
  {
   "cell_type": "markdown",
   "metadata": {},
   "source": [
    "# Final chart in chart.md"
   ]
  }
 ],
 "metadata": {
  "kernelspec": {
   "display_name": "Python 3",
   "language": "python",
   "name": "python3"
  },
  "language_info": {
   "codemirror_mode": {
    "name": "ipython",
    "version": 3
   },
   "file_extension": ".py",
   "mimetype": "text/x-python",
   "name": "python",
   "nbconvert_exporter": "python",
   "pygments_lexer": "ipython3",
   "version": "3.6.8"
  }
 },
 "nbformat": 4,
 "nbformat_minor": 4
}
